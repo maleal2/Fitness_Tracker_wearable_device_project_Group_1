{
 "cells": [
  {
   "cell_type": "markdown",
   "id": "825b3de7-0c2f-4519-8106-b769ae98de87",
   "metadata": {},
   "source": [
    "### Download Necessary Libraries"
   ]
  },
  {
   "cell_type": "code",
   "execution_count": 1,
   "id": "8301a747-1f83-452f-821a-43c4da41f157",
   "metadata": {},
   "outputs": [
    {
     "name": "stdout",
     "output_type": "stream",
     "text": [
      "Requirement already satisfied: kaggle in /venv/lib/python3.11/site-packages (1.6.5)\n",
      "Requirement already satisfied: six>=1.10 in /venv/lib/python3.11/site-packages (from kaggle) (1.16.0)\n",
      "Requirement already satisfied: certifi in /venv/lib/python3.11/site-packages (from kaggle) (2023.7.22)\n",
      "Requirement already satisfied: python-dateutil in /venv/lib/python3.11/site-packages (from kaggle) (2.8.2)\n",
      "Requirement already satisfied: requests in /venv/lib/python3.11/site-packages (from kaggle) (2.31.0)\n",
      "Requirement already satisfied: tqdm in /venv/lib/python3.11/site-packages (from kaggle) (4.66.1)\n",
      "Requirement already satisfied: python-slugify in /venv/lib/python3.11/site-packages (from kaggle) (8.0.4)\n",
      "Requirement already satisfied: urllib3 in /venv/lib/python3.11/site-packages (from kaggle) (1.26.18)\n",
      "Requirement already satisfied: bleach in /venv/lib/python3.11/site-packages (from kaggle) (6.1.0)\n",
      "Requirement already satisfied: webencodings in /venv/lib/python3.11/site-packages (from bleach->kaggle) (0.5.1)\n",
      "Requirement already satisfied: text-unidecode>=1.3 in /venv/lib/python3.11/site-packages (from python-slugify->kaggle) (1.3)\n",
      "Requirement already satisfied: charset-normalizer<4,>=2 in /venv/lib/python3.11/site-packages (from requests->kaggle) (3.2.0)\n",
      "Requirement already satisfied: idna<4,>=2.5 in /venv/lib/python3.11/site-packages (from requests->kaggle) (3.4)\n",
      "\n",
      "\u001b[1m[\u001b[0m\u001b[34;49mnotice\u001b[0m\u001b[1;39;49m]\u001b[0m\u001b[39;49m A new release of pip available: \u001b[0m\u001b[31;49m22.3.1\u001b[0m\u001b[39;49m -> \u001b[0m\u001b[32;49m24.0\u001b[0m\n",
      "\u001b[1m[\u001b[0m\u001b[34;49mnotice\u001b[0m\u001b[1;39;49m]\u001b[0m\u001b[39;49m To update, run: \u001b[0m\u001b[32;49mpip install --upgrade pip\u001b[0m\n",
      "Requirement already satisfied: scipy in /venv/lib/python3.11/site-packages (1.11.4)\n",
      "Requirement already satisfied: numpy<1.28.0,>=1.21.6 in /venv/lib/python3.11/site-packages (from scipy) (1.26.2)\n",
      "\n",
      "\u001b[1m[\u001b[0m\u001b[34;49mnotice\u001b[0m\u001b[1;39;49m]\u001b[0m\u001b[39;49m A new release of pip available: \u001b[0m\u001b[31;49m22.3.1\u001b[0m\u001b[39;49m -> \u001b[0m\u001b[32;49m24.0\u001b[0m\n",
      "\u001b[1m[\u001b[0m\u001b[34;49mnotice\u001b[0m\u001b[1;39;49m]\u001b[0m\u001b[39;49m To update, run: \u001b[0m\u001b[32;49mpip install --upgrade pip\u001b[0m\n",
      "Requirement already satisfied: scikit-learn in /venv/lib/python3.11/site-packages (1.3.2)\n",
      "Requirement already satisfied: numpy<2.0,>=1.17.3 in /venv/lib/python3.11/site-packages (from scikit-learn) (1.26.2)\n",
      "Requirement already satisfied: scipy>=1.5.0 in /venv/lib/python3.11/site-packages (from scikit-learn) (1.11.4)\n",
      "Requirement already satisfied: joblib>=1.1.1 in /venv/lib/python3.11/site-packages (from scikit-learn) (1.3.2)\n",
      "Requirement already satisfied: threadpoolctl>=2.0.0 in /venv/lib/python3.11/site-packages (from scikit-learn) (3.2.0)\n",
      "\n",
      "\u001b[1m[\u001b[0m\u001b[34;49mnotice\u001b[0m\u001b[1;39;49m]\u001b[0m\u001b[39;49m A new release of pip available: \u001b[0m\u001b[31;49m22.3.1\u001b[0m\u001b[39;49m -> \u001b[0m\u001b[32;49m24.0\u001b[0m\n",
      "\u001b[1m[\u001b[0m\u001b[34;49mnotice\u001b[0m\u001b[1;39;49m]\u001b[0m\u001b[39;49m To update, run: \u001b[0m\u001b[32;49mpip install --upgrade pip\u001b[0m\n",
      "Requirement already satisfied: seaborn in /venv/lib/python3.11/site-packages (0.13.2)\n",
      "Requirement already satisfied: numpy!=1.24.0,>=1.20 in /venv/lib/python3.11/site-packages (from seaborn) (1.26.2)\n",
      "Requirement already satisfied: pandas>=1.2 in /venv/lib/python3.11/site-packages (from seaborn) (2.1.0)\n",
      "Requirement already satisfied: matplotlib!=3.6.1,>=3.4 in /venv/lib/python3.11/site-packages (from seaborn) (3.8.2)\n",
      "Requirement already satisfied: contourpy>=1.0.1 in /venv/lib/python3.11/site-packages (from matplotlib!=3.6.1,>=3.4->seaborn) (1.2.0)\n",
      "Requirement already satisfied: cycler>=0.10 in /venv/lib/python3.11/site-packages (from matplotlib!=3.6.1,>=3.4->seaborn) (0.12.1)\n",
      "Requirement already satisfied: fonttools>=4.22.0 in /venv/lib/python3.11/site-packages (from matplotlib!=3.6.1,>=3.4->seaborn) (4.47.2)\n",
      "Requirement already satisfied: kiwisolver>=1.3.1 in /venv/lib/python3.11/site-packages (from matplotlib!=3.6.1,>=3.4->seaborn) (1.4.5)\n",
      "Requirement already satisfied: packaging>=20.0 in /venv/lib/python3.11/site-packages (from matplotlib!=3.6.1,>=3.4->seaborn) (23.2)\n",
      "Requirement already satisfied: pillow>=8 in /venv/lib/python3.11/site-packages (from matplotlib!=3.6.1,>=3.4->seaborn) (9.3.0)\n",
      "Requirement already satisfied: pyparsing>=2.3.1 in /venv/lib/python3.11/site-packages (from matplotlib!=3.6.1,>=3.4->seaborn) (3.1.1)\n",
      "Requirement already satisfied: python-dateutil>=2.7 in /venv/lib/python3.11/site-packages (from matplotlib!=3.6.1,>=3.4->seaborn) (2.8.2)\n",
      "Requirement already satisfied: pytz>=2020.1 in /venv/lib/python3.11/site-packages (from pandas>=1.2->seaborn) (2023.3.post1)\n",
      "Requirement already satisfied: tzdata>=2022.1 in /venv/lib/python3.11/site-packages (from pandas>=1.2->seaborn) (2023.3)\n",
      "Requirement already satisfied: six>=1.5 in /venv/lib/python3.11/site-packages (from python-dateutil>=2.7->matplotlib!=3.6.1,>=3.4->seaborn) (1.16.0)\n",
      "\n",
      "\u001b[1m[\u001b[0m\u001b[34;49mnotice\u001b[0m\u001b[1;39;49m]\u001b[0m\u001b[39;49m A new release of pip available: \u001b[0m\u001b[31;49m22.3.1\u001b[0m\u001b[39;49m -> \u001b[0m\u001b[32;49m24.0\u001b[0m\n",
      "\u001b[1m[\u001b[0m\u001b[34;49mnotice\u001b[0m\u001b[1;39;49m]\u001b[0m\u001b[39;49m To update, run: \u001b[0m\u001b[32;49mpip install --upgrade pip\u001b[0m\n",
      "Requirement already satisfied: pandas in /venv/lib/python3.11/site-packages (2.1.0)\n",
      "Requirement already satisfied: numpy>=1.23.2 in /venv/lib/python3.11/site-packages (from pandas) (1.26.2)\n",
      "Requirement already satisfied: python-dateutil>=2.8.2 in /venv/lib/python3.11/site-packages (from pandas) (2.8.2)\n",
      "Requirement already satisfied: pytz>=2020.1 in /venv/lib/python3.11/site-packages (from pandas) (2023.3.post1)\n",
      "Requirement already satisfied: tzdata>=2022.1 in /venv/lib/python3.11/site-packages (from pandas) (2023.3)\n",
      "Requirement already satisfied: six>=1.5 in /venv/lib/python3.11/site-packages (from python-dateutil>=2.8.2->pandas) (1.16.0)\n",
      "\n",
      "\u001b[1m[\u001b[0m\u001b[34;49mnotice\u001b[0m\u001b[1;39;49m]\u001b[0m\u001b[39;49m A new release of pip available: \u001b[0m\u001b[31;49m22.3.1\u001b[0m\u001b[39;49m -> \u001b[0m\u001b[32;49m24.0\u001b[0m\n",
      "\u001b[1m[\u001b[0m\u001b[34;49mnotice\u001b[0m\u001b[1;39;49m]\u001b[0m\u001b[39;49m To update, run: \u001b[0m\u001b[32;49mpip install --upgrade pip\u001b[0m\n",
      "Requirement already satisfied: Pyarrow in /venv/lib/python3.11/site-packages (14.0.2)\n",
      "Requirement already satisfied: numpy>=1.16.6 in /venv/lib/python3.11/site-packages (from Pyarrow) (1.26.2)\n",
      "\n",
      "\u001b[1m[\u001b[0m\u001b[34;49mnotice\u001b[0m\u001b[1;39;49m]\u001b[0m\u001b[39;49m A new release of pip available: \u001b[0m\u001b[31;49m22.3.1\u001b[0m\u001b[39;49m -> \u001b[0m\u001b[32;49m24.0\u001b[0m\n",
      "\u001b[1m[\u001b[0m\u001b[34;49mnotice\u001b[0m\u001b[1;39;49m]\u001b[0m\u001b[39;49m To update, run: \u001b[0m\u001b[32;49mpip install --upgrade pip\u001b[0m\n"
     ]
    }
   ],
   "source": [
    "!pip install kaggle\n",
    "!pip install scipy\n",
    "!pip install scikit-learn\n",
    "!pip install seaborn\n",
    "!pip install pandas\n",
    "!pip install Pyarrow"
   ]
  },
  {
   "cell_type": "markdown",
   "id": "b3ff0f37-de13-4720-bbc0-64a5864ee3b9",
   "metadata": {},
   "source": [
    "### Import Necessary Libraries"
   ]
  },
  {
   "cell_type": "code",
   "execution_count": 2,
   "id": "750f8832-3f55-473a-ab7e-5a2bf00d9354",
   "metadata": {},
   "outputs": [
    {
     "name": "stdout",
     "output_type": "stream",
     "text": [
      "Warning: Your Kaggle API key is readable by other users on this system! To fix this, you can run 'chmod 600 /root/.kaggle/kaggle.json'\n"
     ]
    }
   ],
   "source": [
    "import kaggle\n",
    "import pandas as pd\n",
    "import numpy as np\n",
    "from scipy import interpolate\n",
    "import matplotlib.pyplot as plt\n",
    "import seaborn as sns\n",
    "\n",
    "# used to build the models with\n",
    "import torch\n",
    "from torch import nn\n",
    "from torch.nn import LSTM, Linear\n",
    "from torch.optim import Adam\n",
    "from torch.utils.data import TensorDataset, DataLoader\n",
    "\n",
    "# used for importing the train_test_split module to split the data\n",
    "from sklearn.model_selection import train_test_split\n",
    "# used to scale the data for Principal Component Analysis\n",
    "from sklearn.preprocessing import StandardScaler\n",
    "from sklearn.preprocessing import MinMaxScaler\n",
    "# used for importing Principal Component Analysis\n",
    "from sklearn.decomposition import PCA"
   ]
  },
  {
   "cell_type": "markdown",
   "id": "4eadb0cf-5355-4deb-8131-6b54d6b5f77a",
   "metadata": {},
   "source": [
    "### Connect to Kaggle and Import Dataset"
   ]
  },
  {
   "cell_type": "code",
   "execution_count": 3,
   "id": "1f47425f-f74b-461f-a067-9b57cd54cb68",
   "metadata": {},
   "outputs": [
    {
     "name": "stdout",
     "output_type": "stream",
     "text": [
      "Warning: Your Kaggle API key is readable by other users on this system! To fix this, you can run 'chmod 600 /root/.kaggle/kaggle.json'\n"
     ]
    }
   ],
   "source": [
    "kaggle.api.authenticate()"
   ]
  },
  {
   "cell_type": "code",
   "execution_count": 4,
   "id": "8ccae96a-f9a0-4e81-9486-ff777f191f28",
   "metadata": {},
   "outputs": [],
   "source": [
    "kaggle.api.dataset_download_files('arashnic/fitbit', path='/python_code_src/coding', unzip=True)"
   ]
  },
  {
   "cell_type": "markdown",
   "id": "d0c10528-0d52-41ea-8aef-27258109bf7d",
   "metadata": {},
   "source": [
    "### Load datasets"
   ]
  },
  {
   "cell_type": "code",
   "execution_count": 5,
   "id": "d7762ff8-cc24-4c7d-a6c8-849c8a5d5a90",
   "metadata": {},
   "outputs": [],
   "source": [
    "activity = pd.read_csv('/python_code_src/coding/Fitabase Data 4.12.16-5.12.16/dailyActivity_merged.csv')\n",
    "sleep = pd.read_csv('/python_code_src/coding/Fitabase Data 4.12.16-5.12.16/sleepDay_merged.csv')\n",
    "weight = pd.read_csv('/python_code_src/coding/Fitabase Data 4.12.16-5.12.16/weightLogInfo_merged.csv')"
   ]
  },
  {
   "cell_type": "markdown",
   "id": "1fa4ea60-6312-4b30-8d7f-749008d558cd",
   "metadata": {},
   "source": [
    "### Rename and change data types for 'activity' dataset"
   ]
  },
  {
   "cell_type": "code",
   "execution_count": 6,
   "id": "de33f7d0-664b-41ed-bf60-7199f69230b6",
   "metadata": {},
   "outputs": [],
   "source": [
    "activity.rename(columns={'ActivityDate': 'Date_Merge'}, inplace=True)\n",
    "activity['Date_Merge'] = pd.to_datetime(activity['Date_Merge'], format = '%m/%d/%Y')\n",
    "activity['Id'] = activity['Id'].astype('int64')\n",
    "activity.drop(['TrackerDistance', 'LoggedActivitiesDistance'], axis=1, inplace=True)"
   ]
  },
  {
   "cell_type": "markdown",
   "id": "4db3ff1f-8057-4a5a-8452-49b2c85966e2",
   "metadata": {},
   "source": [
    "### Rename and change data types for 'sleep' dataset"
   ]
  },
  {
   "cell_type": "code",
   "execution_count": 7,
   "id": "7fa34ced-91ac-47c0-b1b9-61908f3243f6",
   "metadata": {},
   "outputs": [],
   "source": [
    "sleep.rename(columns={'SleepDay': 'Date_Merge'}, inplace=True)\n",
    "sleep['Date_Merge'] = pd.to_datetime(sleep['Date_Merge'], format='%m/%d/%Y %I:%M:%S %p').dt.strftime('%m/%d/%Y')\n",
    "sleep['Date_Merge'] = sleep['Date_Merge'].astype('datetime64[ns]')\n",
    "sleep['Id'] = sleep['Id'].astype('int64')\n",
    "sleep = sleep[['Id', 'Date_Merge', 'TotalSleepRecords','TotalMinutesAsleep','TotalTimeInBed']]"
   ]
  },
  {
   "cell_type": "markdown",
   "id": "395406e8-11eb-4c81-9535-4fe198129614",
   "metadata": {},
   "source": [
    "### Rename and change data types for 'weight' dataset"
   ]
  },
  {
   "cell_type": "code",
   "execution_count": 8,
   "id": "474e6c01-aaf8-43e4-9f0d-f5cdc1a96731",
   "metadata": {},
   "outputs": [],
   "source": [
    "weight.rename(columns={'Date': 'Date_Merge'}, inplace=True)\n",
    "weight['Date_Merge'] = pd.to_datetime(weight['Date_Merge'], format='%m/%d/%Y %I:%M:%S %p').dt.strftime('%m/%d/%Y')\n",
    "weight['Date_Merge'] = weight['Date_Merge'].astype('datetime64[ns]')\n",
    "weight['Id'] = weight['Id'].astype('int64')\n",
    "weight = weight[['Id', 'Date_Merge', 'WeightKg', 'WeightPounds', 'Fat', 'BMI']]"
   ]
  },
  {
   "cell_type": "code",
   "execution_count": 9,
   "id": "81a9187e-361c-491c-80c7-11a912ca0758",
   "metadata": {},
   "outputs": [
    {
     "data": {
      "text/html": [
       "<div>\n",
       "<style scoped>\n",
       "    .dataframe tbody tr th:only-of-type {\n",
       "        vertical-align: middle;\n",
       "    }\n",
       "\n",
       "    .dataframe tbody tr th {\n",
       "        vertical-align: top;\n",
       "    }\n",
       "\n",
       "    .dataframe thead th {\n",
       "        text-align: right;\n",
       "    }\n",
       "</style>\n",
       "<table border=\"1\" class=\"dataframe\">\n",
       "  <thead>\n",
       "    <tr style=\"text-align: right;\">\n",
       "      <th></th>\n",
       "      <th>Id</th>\n",
       "      <th>Date_Merge</th>\n",
       "      <th>TotalSteps</th>\n",
       "      <th>TotalDistance</th>\n",
       "      <th>VeryActiveDistance</th>\n",
       "      <th>ModeratelyActiveDistance</th>\n",
       "      <th>LightActiveDistance</th>\n",
       "      <th>SedentaryActiveDistance</th>\n",
       "      <th>VeryActiveMinutes</th>\n",
       "      <th>FairlyActiveMinutes</th>\n",
       "      <th>LightlyActiveMinutes</th>\n",
       "      <th>SedentaryMinutes</th>\n",
       "      <th>Calories</th>\n",
       "    </tr>\n",
       "  </thead>\n",
       "  <tbody>\n",
       "    <tr>\n",
       "      <th>0</th>\n",
       "      <td>1503960366</td>\n",
       "      <td>2016-04-12</td>\n",
       "      <td>13162</td>\n",
       "      <td>8.50</td>\n",
       "      <td>1.88</td>\n",
       "      <td>0.55</td>\n",
       "      <td>6.06</td>\n",
       "      <td>0.0</td>\n",
       "      <td>25</td>\n",
       "      <td>13</td>\n",
       "      <td>328</td>\n",
       "      <td>728</td>\n",
       "      <td>1985</td>\n",
       "    </tr>\n",
       "    <tr>\n",
       "      <th>1</th>\n",
       "      <td>1503960366</td>\n",
       "      <td>2016-04-13</td>\n",
       "      <td>10735</td>\n",
       "      <td>6.97</td>\n",
       "      <td>1.57</td>\n",
       "      <td>0.69</td>\n",
       "      <td>4.71</td>\n",
       "      <td>0.0</td>\n",
       "      <td>21</td>\n",
       "      <td>19</td>\n",
       "      <td>217</td>\n",
       "      <td>776</td>\n",
       "      <td>1797</td>\n",
       "    </tr>\n",
       "    <tr>\n",
       "      <th>2</th>\n",
       "      <td>1503960366</td>\n",
       "      <td>2016-04-14</td>\n",
       "      <td>10460</td>\n",
       "      <td>6.74</td>\n",
       "      <td>2.44</td>\n",
       "      <td>0.40</td>\n",
       "      <td>3.91</td>\n",
       "      <td>0.0</td>\n",
       "      <td>30</td>\n",
       "      <td>11</td>\n",
       "      <td>181</td>\n",
       "      <td>1218</td>\n",
       "      <td>1776</td>\n",
       "    </tr>\n",
       "    <tr>\n",
       "      <th>3</th>\n",
       "      <td>1503960366</td>\n",
       "      <td>2016-04-15</td>\n",
       "      <td>9762</td>\n",
       "      <td>6.28</td>\n",
       "      <td>2.14</td>\n",
       "      <td>1.26</td>\n",
       "      <td>2.83</td>\n",
       "      <td>0.0</td>\n",
       "      <td>29</td>\n",
       "      <td>34</td>\n",
       "      <td>209</td>\n",
       "      <td>726</td>\n",
       "      <td>1745</td>\n",
       "    </tr>\n",
       "    <tr>\n",
       "      <th>4</th>\n",
       "      <td>1503960366</td>\n",
       "      <td>2016-04-16</td>\n",
       "      <td>12669</td>\n",
       "      <td>8.16</td>\n",
       "      <td>2.71</td>\n",
       "      <td>0.41</td>\n",
       "      <td>5.04</td>\n",
       "      <td>0.0</td>\n",
       "      <td>36</td>\n",
       "      <td>10</td>\n",
       "      <td>221</td>\n",
       "      <td>773</td>\n",
       "      <td>1863</td>\n",
       "    </tr>\n",
       "  </tbody>\n",
       "</table>\n",
       "</div>"
      ],
      "text/plain": [
       "           Id Date_Merge  TotalSteps  TotalDistance  VeryActiveDistance  \\\n",
       "0  1503960366 2016-04-12       13162           8.50                1.88   \n",
       "1  1503960366 2016-04-13       10735           6.97                1.57   \n",
       "2  1503960366 2016-04-14       10460           6.74                2.44   \n",
       "3  1503960366 2016-04-15        9762           6.28                2.14   \n",
       "4  1503960366 2016-04-16       12669           8.16                2.71   \n",
       "\n",
       "   ModeratelyActiveDistance  LightActiveDistance  SedentaryActiveDistance  \\\n",
       "0                      0.55                 6.06                      0.0   \n",
       "1                      0.69                 4.71                      0.0   \n",
       "2                      0.40                 3.91                      0.0   \n",
       "3                      1.26                 2.83                      0.0   \n",
       "4                      0.41                 5.04                      0.0   \n",
       "\n",
       "   VeryActiveMinutes  FairlyActiveMinutes  LightlyActiveMinutes  \\\n",
       "0                 25                   13                   328   \n",
       "1                 21                   19                   217   \n",
       "2                 30                   11                   181   \n",
       "3                 29                   34                   209   \n",
       "4                 36                   10                   221   \n",
       "\n",
       "   SedentaryMinutes  Calories  \n",
       "0               728      1985  \n",
       "1               776      1797  \n",
       "2              1218      1776  \n",
       "3               726      1745  \n",
       "4               773      1863  "
      ]
     },
     "execution_count": 9,
     "metadata": {},
     "output_type": "execute_result"
    }
   ],
   "source": [
    "activity.head()"
   ]
  },
  {
   "cell_type": "code",
   "execution_count": 10,
   "id": "05f1e312-91a0-4e6c-857c-bc5e0c19dd8a",
   "metadata": {},
   "outputs": [
    {
     "name": "stdout",
     "output_type": "stream",
     "text": [
      "<class 'pandas.core.frame.DataFrame'>\n",
      "RangeIndex: 940 entries, 0 to 939\n",
      "Data columns (total 13 columns):\n",
      " #   Column                    Non-Null Count  Dtype         \n",
      "---  ------                    --------------  -----         \n",
      " 0   Id                        940 non-null    int64         \n",
      " 1   Date_Merge                940 non-null    datetime64[ns]\n",
      " 2   TotalSteps                940 non-null    int64         \n",
      " 3   TotalDistance             940 non-null    float64       \n",
      " 4   VeryActiveDistance        940 non-null    float64       \n",
      " 5   ModeratelyActiveDistance  940 non-null    float64       \n",
      " 6   LightActiveDistance       940 non-null    float64       \n",
      " 7   SedentaryActiveDistance   940 non-null    float64       \n",
      " 8   VeryActiveMinutes         940 non-null    int64         \n",
      " 9   FairlyActiveMinutes       940 non-null    int64         \n",
      " 10  LightlyActiveMinutes      940 non-null    int64         \n",
      " 11  SedentaryMinutes          940 non-null    int64         \n",
      " 12  Calories                  940 non-null    int64         \n",
      "dtypes: datetime64[ns](1), float64(5), int64(7)\n",
      "memory usage: 95.6 KB\n"
     ]
    }
   ],
   "source": [
    "activity.info()"
   ]
  },
  {
   "cell_type": "code",
   "execution_count": 11,
   "id": "0c43e210-56c2-411a-acd9-494431ad4231",
   "metadata": {},
   "outputs": [
    {
     "data": {
      "text/html": [
       "<div>\n",
       "<style scoped>\n",
       "    .dataframe tbody tr th:only-of-type {\n",
       "        vertical-align: middle;\n",
       "    }\n",
       "\n",
       "    .dataframe tbody tr th {\n",
       "        vertical-align: top;\n",
       "    }\n",
       "\n",
       "    .dataframe thead th {\n",
       "        text-align: right;\n",
       "    }\n",
       "</style>\n",
       "<table border=\"1\" class=\"dataframe\">\n",
       "  <thead>\n",
       "    <tr style=\"text-align: right;\">\n",
       "      <th></th>\n",
       "      <th>Id</th>\n",
       "      <th>Date_Merge</th>\n",
       "      <th>TotalSleepRecords</th>\n",
       "      <th>TotalMinutesAsleep</th>\n",
       "      <th>TotalTimeInBed</th>\n",
       "    </tr>\n",
       "  </thead>\n",
       "  <tbody>\n",
       "    <tr>\n",
       "      <th>0</th>\n",
       "      <td>1503960366</td>\n",
       "      <td>2016-04-12</td>\n",
       "      <td>1</td>\n",
       "      <td>327</td>\n",
       "      <td>346</td>\n",
       "    </tr>\n",
       "    <tr>\n",
       "      <th>1</th>\n",
       "      <td>1503960366</td>\n",
       "      <td>2016-04-13</td>\n",
       "      <td>2</td>\n",
       "      <td>384</td>\n",
       "      <td>407</td>\n",
       "    </tr>\n",
       "    <tr>\n",
       "      <th>2</th>\n",
       "      <td>1503960366</td>\n",
       "      <td>2016-04-15</td>\n",
       "      <td>1</td>\n",
       "      <td>412</td>\n",
       "      <td>442</td>\n",
       "    </tr>\n",
       "    <tr>\n",
       "      <th>3</th>\n",
       "      <td>1503960366</td>\n",
       "      <td>2016-04-16</td>\n",
       "      <td>2</td>\n",
       "      <td>340</td>\n",
       "      <td>367</td>\n",
       "    </tr>\n",
       "    <tr>\n",
       "      <th>4</th>\n",
       "      <td>1503960366</td>\n",
       "      <td>2016-04-17</td>\n",
       "      <td>1</td>\n",
       "      <td>700</td>\n",
       "      <td>712</td>\n",
       "    </tr>\n",
       "  </tbody>\n",
       "</table>\n",
       "</div>"
      ],
      "text/plain": [
       "           Id Date_Merge  TotalSleepRecords  TotalMinutesAsleep  \\\n",
       "0  1503960366 2016-04-12                  1                 327   \n",
       "1  1503960366 2016-04-13                  2                 384   \n",
       "2  1503960366 2016-04-15                  1                 412   \n",
       "3  1503960366 2016-04-16                  2                 340   \n",
       "4  1503960366 2016-04-17                  1                 700   \n",
       "\n",
       "   TotalTimeInBed  \n",
       "0             346  \n",
       "1             407  \n",
       "2             442  \n",
       "3             367  \n",
       "4             712  "
      ]
     },
     "execution_count": 11,
     "metadata": {},
     "output_type": "execute_result"
    }
   ],
   "source": [
    "sleep.head()"
   ]
  },
  {
   "cell_type": "code",
   "execution_count": 12,
   "id": "0eaf643e-1728-4ee4-8b6f-c1dd6f5ae789",
   "metadata": {},
   "outputs": [
    {
     "name": "stdout",
     "output_type": "stream",
     "text": [
      "<class 'pandas.core.frame.DataFrame'>\n",
      "RangeIndex: 413 entries, 0 to 412\n",
      "Data columns (total 5 columns):\n",
      " #   Column              Non-Null Count  Dtype         \n",
      "---  ------              --------------  -----         \n",
      " 0   Id                  413 non-null    int64         \n",
      " 1   Date_Merge          413 non-null    datetime64[ns]\n",
      " 2   TotalSleepRecords   413 non-null    int64         \n",
      " 3   TotalMinutesAsleep  413 non-null    int64         \n",
      " 4   TotalTimeInBed      413 non-null    int64         \n",
      "dtypes: datetime64[ns](1), int64(4)\n",
      "memory usage: 16.3 KB\n"
     ]
    }
   ],
   "source": [
    "sleep.info()"
   ]
  },
  {
   "cell_type": "code",
   "execution_count": 13,
   "id": "dfb14d60-7a39-45f5-83fd-4950362148ce",
   "metadata": {},
   "outputs": [
    {
     "data": {
      "text/html": [
       "<div>\n",
       "<style scoped>\n",
       "    .dataframe tbody tr th:only-of-type {\n",
       "        vertical-align: middle;\n",
       "    }\n",
       "\n",
       "    .dataframe tbody tr th {\n",
       "        vertical-align: top;\n",
       "    }\n",
       "\n",
       "    .dataframe thead th {\n",
       "        text-align: right;\n",
       "    }\n",
       "</style>\n",
       "<table border=\"1\" class=\"dataframe\">\n",
       "  <thead>\n",
       "    <tr style=\"text-align: right;\">\n",
       "      <th></th>\n",
       "      <th>Id</th>\n",
       "      <th>Date_Merge</th>\n",
       "      <th>WeightKg</th>\n",
       "      <th>WeightPounds</th>\n",
       "      <th>Fat</th>\n",
       "      <th>BMI</th>\n",
       "    </tr>\n",
       "  </thead>\n",
       "  <tbody>\n",
       "    <tr>\n",
       "      <th>0</th>\n",
       "      <td>1503960366</td>\n",
       "      <td>2016-05-02</td>\n",
       "      <td>52.599998</td>\n",
       "      <td>115.963147</td>\n",
       "      <td>22.0</td>\n",
       "      <td>22.650000</td>\n",
       "    </tr>\n",
       "    <tr>\n",
       "      <th>1</th>\n",
       "      <td>1503960366</td>\n",
       "      <td>2016-05-03</td>\n",
       "      <td>52.599998</td>\n",
       "      <td>115.963147</td>\n",
       "      <td>NaN</td>\n",
       "      <td>22.650000</td>\n",
       "    </tr>\n",
       "    <tr>\n",
       "      <th>2</th>\n",
       "      <td>1927972279</td>\n",
       "      <td>2016-04-13</td>\n",
       "      <td>133.500000</td>\n",
       "      <td>294.317120</td>\n",
       "      <td>NaN</td>\n",
       "      <td>47.540001</td>\n",
       "    </tr>\n",
       "    <tr>\n",
       "      <th>3</th>\n",
       "      <td>2873212765</td>\n",
       "      <td>2016-04-21</td>\n",
       "      <td>56.700001</td>\n",
       "      <td>125.002104</td>\n",
       "      <td>NaN</td>\n",
       "      <td>21.450001</td>\n",
       "    </tr>\n",
       "    <tr>\n",
       "      <th>4</th>\n",
       "      <td>2873212765</td>\n",
       "      <td>2016-05-12</td>\n",
       "      <td>57.299999</td>\n",
       "      <td>126.324875</td>\n",
       "      <td>NaN</td>\n",
       "      <td>21.690001</td>\n",
       "    </tr>\n",
       "  </tbody>\n",
       "</table>\n",
       "</div>"
      ],
      "text/plain": [
       "           Id Date_Merge    WeightKg  WeightPounds   Fat        BMI\n",
       "0  1503960366 2016-05-02   52.599998    115.963147  22.0  22.650000\n",
       "1  1503960366 2016-05-03   52.599998    115.963147   NaN  22.650000\n",
       "2  1927972279 2016-04-13  133.500000    294.317120   NaN  47.540001\n",
       "3  2873212765 2016-04-21   56.700001    125.002104   NaN  21.450001\n",
       "4  2873212765 2016-05-12   57.299999    126.324875   NaN  21.690001"
      ]
     },
     "execution_count": 13,
     "metadata": {},
     "output_type": "execute_result"
    }
   ],
   "source": [
    "weight.head()"
   ]
  },
  {
   "cell_type": "code",
   "execution_count": 14,
   "id": "c7f9bbb0-3c51-4f8e-a7ef-a884f4062798",
   "metadata": {},
   "outputs": [
    {
     "name": "stdout",
     "output_type": "stream",
     "text": [
      "<class 'pandas.core.frame.DataFrame'>\n",
      "RangeIndex: 67 entries, 0 to 66\n",
      "Data columns (total 6 columns):\n",
      " #   Column        Non-Null Count  Dtype         \n",
      "---  ------        --------------  -----         \n",
      " 0   Id            67 non-null     int64         \n",
      " 1   Date_Merge    67 non-null     datetime64[ns]\n",
      " 2   WeightKg      67 non-null     float64       \n",
      " 3   WeightPounds  67 non-null     float64       \n",
      " 4   Fat           2 non-null      float64       \n",
      " 5   BMI           67 non-null     float64       \n",
      "dtypes: datetime64[ns](1), float64(4), int64(1)\n",
      "memory usage: 3.3 KB\n"
     ]
    }
   ],
   "source": [
    "weight.info()"
   ]
  },
  {
   "cell_type": "markdown",
   "id": "6dbd58a7-e5e0-4c3a-9a49-38564ee89a68",
   "metadata": {},
   "source": [
    "### Merge datasets"
   ]
  },
  {
   "cell_type": "code",
   "execution_count": 15,
   "id": "011f93e9-b276-45c0-85a0-fce66372a05d",
   "metadata": {},
   "outputs": [],
   "source": [
    "merged_df = pd.merge(activity, sleep, on=['Id','Date_Merge'], how='outer')\n",
    "merged_df = pd.merge(merged_df, weight, on=['Id','Date_Merge'], how='outer')"
   ]
  },
  {
   "cell_type": "markdown",
   "id": "06db9c4c-17e0-4e2c-98e5-68bc204b09b2",
   "metadata": {},
   "source": [
    "### Check the data types of 'Date_Merge' columns in all three datasets and ensure they are strings before converting them to datetime objects"
   ]
  },
  {
   "cell_type": "code",
   "execution_count": 16,
   "id": "8614950a-e8f5-4938-a758-ca670d1e5321",
   "metadata": {},
   "outputs": [
    {
     "data": {
      "text/plain": [
       "array([<class 'pandas._libs.tslibs.timestamps.Timestamp'>], dtype=object)"
      ]
     },
     "execution_count": 16,
     "metadata": {},
     "output_type": "execute_result"
    }
   ],
   "source": [
    "merged_df['Date_Merge'].apply(type).unique()"
   ]
  },
  {
   "cell_type": "markdown",
   "id": "e435c55d-8ac7-4da1-9e5d-72bbaecae4db",
   "metadata": {},
   "source": [
    "### Interpolate missing values"
   ]
  },
  {
   "cell_type": "code",
   "execution_count": 17,
   "id": "560535a5-7ae6-4fdb-8c26-e9e11da2ec08",
   "metadata": {},
   "outputs": [],
   "source": [
    "merged_df = merged_df.fillna(0)"
   ]
  },
  {
   "cell_type": "code",
   "execution_count": 18,
   "id": "e0f3c2ff-e98d-4798-b821-ed4a7718d120",
   "metadata": {},
   "outputs": [],
   "source": [
    "for col in merged_df.columns:\n",
    "    if merged_df[col].isna().any():\n",
    "        merged_df[col] = merged_df[col].interpolate(method='cubic')"
   ]
  },
  {
   "cell_type": "markdown",
   "id": "e3025ffd-72f9-47e7-9cec-139cc5734087",
   "metadata": {},
   "source": [
    "### Change data types for all columns except 'Id' and 'Date_Merge'"
   ]
  },
  {
   "cell_type": "code",
   "execution_count": 19,
   "id": "a9f995f4-7380-48ca-93ec-5eb9fa7d8e57",
   "metadata": {},
   "outputs": [],
   "source": [
    "merged_df = merged_df.astype({col: 'float64' for col in merged_df.columns if col not in ['Id', 'Date_Merge']})"
   ]
  },
  {
   "cell_type": "markdown",
   "id": "31b2dbd2-4507-4600-9b77-4d3fe8e1ca7a",
   "metadata": {},
   "source": [
    "### Set Date_Merge and Id as the Index, sort the data to the dataset and rename the index"
   ]
  },
  {
   "cell_type": "code",
   "execution_count": 20,
   "id": "c2bba60b-af52-4ccb-bcd3-a787489c5e46",
   "metadata": {},
   "outputs": [],
   "source": [
    "merged_df.set_index(['Id', 'Date_Merge'], inplace=True)"
   ]
  },
  {
   "cell_type": "code",
   "execution_count": 21,
   "id": "019a3f4e-c22c-4a09-9193-063627035b97",
   "metadata": {},
   "outputs": [],
   "source": [
    "merged_df.sort_index(inplace=True)"
   ]
  },
  {
   "cell_type": "code",
   "execution_count": 22,
   "id": "3487c7ea",
   "metadata": {},
   "outputs": [],
   "source": [
    "merged_df.index.name = 'Id_DateMerge_Index'"
   ]
  },
  {
   "cell_type": "code",
   "execution_count": 23,
   "id": "3dd1fc54-18b2-4f77-848d-9a518361ff15",
   "metadata": {},
   "outputs": [
    {
     "data": {
      "text/html": [
       "<div>\n",
       "<style scoped>\n",
       "    .dataframe tbody tr th:only-of-type {\n",
       "        vertical-align: middle;\n",
       "    }\n",
       "\n",
       "    .dataframe tbody tr th {\n",
       "        vertical-align: top;\n",
       "    }\n",
       "\n",
       "    .dataframe thead th {\n",
       "        text-align: right;\n",
       "    }\n",
       "</style>\n",
       "<table border=\"1\" class=\"dataframe\">\n",
       "  <thead>\n",
       "    <tr style=\"text-align: right;\">\n",
       "      <th></th>\n",
       "      <th></th>\n",
       "      <th>TotalSteps</th>\n",
       "      <th>TotalDistance</th>\n",
       "      <th>VeryActiveDistance</th>\n",
       "      <th>ModeratelyActiveDistance</th>\n",
       "      <th>LightActiveDistance</th>\n",
       "      <th>SedentaryActiveDistance</th>\n",
       "      <th>VeryActiveMinutes</th>\n",
       "      <th>FairlyActiveMinutes</th>\n",
       "      <th>LightlyActiveMinutes</th>\n",
       "      <th>SedentaryMinutes</th>\n",
       "      <th>Calories</th>\n",
       "      <th>TotalSleepRecords</th>\n",
       "      <th>TotalMinutesAsleep</th>\n",
       "      <th>TotalTimeInBed</th>\n",
       "      <th>WeightKg</th>\n",
       "      <th>WeightPounds</th>\n",
       "      <th>Fat</th>\n",
       "      <th>BMI</th>\n",
       "    </tr>\n",
       "    <tr>\n",
       "      <th>Id</th>\n",
       "      <th>Date_Merge</th>\n",
       "      <th></th>\n",
       "      <th></th>\n",
       "      <th></th>\n",
       "      <th></th>\n",
       "      <th></th>\n",
       "      <th></th>\n",
       "      <th></th>\n",
       "      <th></th>\n",
       "      <th></th>\n",
       "      <th></th>\n",
       "      <th></th>\n",
       "      <th></th>\n",
       "      <th></th>\n",
       "      <th></th>\n",
       "      <th></th>\n",
       "      <th></th>\n",
       "      <th></th>\n",
       "      <th></th>\n",
       "    </tr>\n",
       "  </thead>\n",
       "  <tbody>\n",
       "    <tr>\n",
       "      <th rowspan=\"5\" valign=\"top\">1503960366</th>\n",
       "      <th>2016-04-12</th>\n",
       "      <td>13162.0</td>\n",
       "      <td>8.50</td>\n",
       "      <td>1.88</td>\n",
       "      <td>0.55</td>\n",
       "      <td>6.06</td>\n",
       "      <td>0.0</td>\n",
       "      <td>25.0</td>\n",
       "      <td>13.0</td>\n",
       "      <td>328.0</td>\n",
       "      <td>728.0</td>\n",
       "      <td>1985.0</td>\n",
       "      <td>1.0</td>\n",
       "      <td>327.0</td>\n",
       "      <td>346.0</td>\n",
       "      <td>0.0</td>\n",
       "      <td>0.0</td>\n",
       "      <td>0.0</td>\n",
       "      <td>0.0</td>\n",
       "    </tr>\n",
       "    <tr>\n",
       "      <th>2016-04-13</th>\n",
       "      <td>10735.0</td>\n",
       "      <td>6.97</td>\n",
       "      <td>1.57</td>\n",
       "      <td>0.69</td>\n",
       "      <td>4.71</td>\n",
       "      <td>0.0</td>\n",
       "      <td>21.0</td>\n",
       "      <td>19.0</td>\n",
       "      <td>217.0</td>\n",
       "      <td>776.0</td>\n",
       "      <td>1797.0</td>\n",
       "      <td>2.0</td>\n",
       "      <td>384.0</td>\n",
       "      <td>407.0</td>\n",
       "      <td>0.0</td>\n",
       "      <td>0.0</td>\n",
       "      <td>0.0</td>\n",
       "      <td>0.0</td>\n",
       "    </tr>\n",
       "    <tr>\n",
       "      <th>2016-04-14</th>\n",
       "      <td>10460.0</td>\n",
       "      <td>6.74</td>\n",
       "      <td>2.44</td>\n",
       "      <td>0.40</td>\n",
       "      <td>3.91</td>\n",
       "      <td>0.0</td>\n",
       "      <td>30.0</td>\n",
       "      <td>11.0</td>\n",
       "      <td>181.0</td>\n",
       "      <td>1218.0</td>\n",
       "      <td>1776.0</td>\n",
       "      <td>0.0</td>\n",
       "      <td>0.0</td>\n",
       "      <td>0.0</td>\n",
       "      <td>0.0</td>\n",
       "      <td>0.0</td>\n",
       "      <td>0.0</td>\n",
       "      <td>0.0</td>\n",
       "    </tr>\n",
       "    <tr>\n",
       "      <th>2016-04-15</th>\n",
       "      <td>9762.0</td>\n",
       "      <td>6.28</td>\n",
       "      <td>2.14</td>\n",
       "      <td>1.26</td>\n",
       "      <td>2.83</td>\n",
       "      <td>0.0</td>\n",
       "      <td>29.0</td>\n",
       "      <td>34.0</td>\n",
       "      <td>209.0</td>\n",
       "      <td>726.0</td>\n",
       "      <td>1745.0</td>\n",
       "      <td>1.0</td>\n",
       "      <td>412.0</td>\n",
       "      <td>442.0</td>\n",
       "      <td>0.0</td>\n",
       "      <td>0.0</td>\n",
       "      <td>0.0</td>\n",
       "      <td>0.0</td>\n",
       "    </tr>\n",
       "    <tr>\n",
       "      <th>2016-04-16</th>\n",
       "      <td>12669.0</td>\n",
       "      <td>8.16</td>\n",
       "      <td>2.71</td>\n",
       "      <td>0.41</td>\n",
       "      <td>5.04</td>\n",
       "      <td>0.0</td>\n",
       "      <td>36.0</td>\n",
       "      <td>10.0</td>\n",
       "      <td>221.0</td>\n",
       "      <td>773.0</td>\n",
       "      <td>1863.0</td>\n",
       "      <td>2.0</td>\n",
       "      <td>340.0</td>\n",
       "      <td>367.0</td>\n",
       "      <td>0.0</td>\n",
       "      <td>0.0</td>\n",
       "      <td>0.0</td>\n",
       "      <td>0.0</td>\n",
       "    </tr>\n",
       "  </tbody>\n",
       "</table>\n",
       "</div>"
      ],
      "text/plain": [
       "                       TotalSteps  TotalDistance  VeryActiveDistance  \\\n",
       "Id         Date_Merge                                                  \n",
       "1503960366 2016-04-12     13162.0           8.50                1.88   \n",
       "           2016-04-13     10735.0           6.97                1.57   \n",
       "           2016-04-14     10460.0           6.74                2.44   \n",
       "           2016-04-15      9762.0           6.28                2.14   \n",
       "           2016-04-16     12669.0           8.16                2.71   \n",
       "\n",
       "                       ModeratelyActiveDistance  LightActiveDistance  \\\n",
       "Id         Date_Merge                                                  \n",
       "1503960366 2016-04-12                      0.55                 6.06   \n",
       "           2016-04-13                      0.69                 4.71   \n",
       "           2016-04-14                      0.40                 3.91   \n",
       "           2016-04-15                      1.26                 2.83   \n",
       "           2016-04-16                      0.41                 5.04   \n",
       "\n",
       "                       SedentaryActiveDistance  VeryActiveMinutes  \\\n",
       "Id         Date_Merge                                               \n",
       "1503960366 2016-04-12                      0.0               25.0   \n",
       "           2016-04-13                      0.0               21.0   \n",
       "           2016-04-14                      0.0               30.0   \n",
       "           2016-04-15                      0.0               29.0   \n",
       "           2016-04-16                      0.0               36.0   \n",
       "\n",
       "                       FairlyActiveMinutes  LightlyActiveMinutes  \\\n",
       "Id         Date_Merge                                              \n",
       "1503960366 2016-04-12                 13.0                 328.0   \n",
       "           2016-04-13                 19.0                 217.0   \n",
       "           2016-04-14                 11.0                 181.0   \n",
       "           2016-04-15                 34.0                 209.0   \n",
       "           2016-04-16                 10.0                 221.0   \n",
       "\n",
       "                       SedentaryMinutes  Calories  TotalSleepRecords  \\\n",
       "Id         Date_Merge                                                  \n",
       "1503960366 2016-04-12             728.0    1985.0                1.0   \n",
       "           2016-04-13             776.0    1797.0                2.0   \n",
       "           2016-04-14            1218.0    1776.0                0.0   \n",
       "           2016-04-15             726.0    1745.0                1.0   \n",
       "           2016-04-16             773.0    1863.0                2.0   \n",
       "\n",
       "                       TotalMinutesAsleep  TotalTimeInBed  WeightKg  \\\n",
       "Id         Date_Merge                                                 \n",
       "1503960366 2016-04-12               327.0           346.0       0.0   \n",
       "           2016-04-13               384.0           407.0       0.0   \n",
       "           2016-04-14                 0.0             0.0       0.0   \n",
       "           2016-04-15               412.0           442.0       0.0   \n",
       "           2016-04-16               340.0           367.0       0.0   \n",
       "\n",
       "                       WeightPounds  Fat  BMI  \n",
       "Id         Date_Merge                          \n",
       "1503960366 2016-04-12           0.0  0.0  0.0  \n",
       "           2016-04-13           0.0  0.0  0.0  \n",
       "           2016-04-14           0.0  0.0  0.0  \n",
       "           2016-04-15           0.0  0.0  0.0  \n",
       "           2016-04-16           0.0  0.0  0.0  "
      ]
     },
     "execution_count": 23,
     "metadata": {},
     "output_type": "execute_result"
    }
   ],
   "source": [
    "merged_df.head()"
   ]
  },
  {
   "cell_type": "markdown",
   "id": "6ceaa105-5c36-4396-926b-3a4cfd51df60",
   "metadata": {},
   "source": [
    "### Exploratory Data Analysis"
   ]
  },
  {
   "cell_type": "markdown",
   "id": "a496e65a-90a9-4a75-96ab-5d700a5e21f7",
   "metadata": {},
   "source": [
    "#### Merged dataframe info"
   ]
  },
  {
   "cell_type": "code",
   "execution_count": 24,
   "id": "cfa5bbe7-556f-490c-be4c-a60c6f5ddb38",
   "metadata": {},
   "outputs": [
    {
     "name": "stdout",
     "output_type": "stream",
     "text": [
      "<class 'pandas.core.frame.DataFrame'>\n",
      "MultiIndex: 943 entries, (1503960366, Timestamp('2016-04-12 00:00:00')) to (8877689391, Timestamp('2016-05-12 00:00:00'))\n",
      "Data columns (total 18 columns):\n",
      " #   Column                    Non-Null Count  Dtype  \n",
      "---  ------                    --------------  -----  \n",
      " 0   TotalSteps                943 non-null    float64\n",
      " 1   TotalDistance             943 non-null    float64\n",
      " 2   VeryActiveDistance        943 non-null    float64\n",
      " 3   ModeratelyActiveDistance  943 non-null    float64\n",
      " 4   LightActiveDistance       943 non-null    float64\n",
      " 5   SedentaryActiveDistance   943 non-null    float64\n",
      " 6   VeryActiveMinutes         943 non-null    float64\n",
      " 7   FairlyActiveMinutes       943 non-null    float64\n",
      " 8   LightlyActiveMinutes      943 non-null    float64\n",
      " 9   SedentaryMinutes          943 non-null    float64\n",
      " 10  Calories                  943 non-null    float64\n",
      " 11  TotalSleepRecords         943 non-null    float64\n",
      " 12  TotalMinutesAsleep        943 non-null    float64\n",
      " 13  TotalTimeInBed            943 non-null    float64\n",
      " 14  WeightKg                  943 non-null    float64\n",
      " 15  WeightPounds              943 non-null    float64\n",
      " 16  Fat                       943 non-null    float64\n",
      " 17  BMI                       943 non-null    float64\n",
      "dtypes: float64(18)\n",
      "memory usage: 137.2 KB\n"
     ]
    }
   ],
   "source": [
    "merged_df.info()"
   ]
  },
  {
   "cell_type": "markdown",
   "id": "8bf00186-bb20-465c-8832-248d634e2cd3",
   "metadata": {},
   "source": [
    "#### Merged Dataframe Statistics"
   ]
  },
  {
   "cell_type": "code",
   "execution_count": 25,
   "id": "4e7e499f-834a-4438-8ed6-b4028d8bf80a",
   "metadata": {},
   "outputs": [
    {
     "data": {
      "text/html": [
       "<div>\n",
       "<style scoped>\n",
       "    .dataframe tbody tr th:only-of-type {\n",
       "        vertical-align: middle;\n",
       "    }\n",
       "\n",
       "    .dataframe tbody tr th {\n",
       "        vertical-align: top;\n",
       "    }\n",
       "\n",
       "    .dataframe thead th {\n",
       "        text-align: right;\n",
       "    }\n",
       "</style>\n",
       "<table border=\"1\" class=\"dataframe\">\n",
       "  <thead>\n",
       "    <tr style=\"text-align: right;\">\n",
       "      <th></th>\n",
       "      <th>TotalSteps</th>\n",
       "      <th>TotalDistance</th>\n",
       "      <th>VeryActiveDistance</th>\n",
       "      <th>ModeratelyActiveDistance</th>\n",
       "      <th>LightActiveDistance</th>\n",
       "      <th>SedentaryActiveDistance</th>\n",
       "      <th>VeryActiveMinutes</th>\n",
       "      <th>FairlyActiveMinutes</th>\n",
       "      <th>LightlyActiveMinutes</th>\n",
       "      <th>SedentaryMinutes</th>\n",
       "      <th>Calories</th>\n",
       "      <th>TotalSleepRecords</th>\n",
       "      <th>TotalMinutesAsleep</th>\n",
       "      <th>TotalTimeInBed</th>\n",
       "      <th>WeightKg</th>\n",
       "      <th>WeightPounds</th>\n",
       "      <th>Fat</th>\n",
       "      <th>BMI</th>\n",
       "    </tr>\n",
       "  </thead>\n",
       "  <tbody>\n",
       "    <tr>\n",
       "      <th>count</th>\n",
       "      <td>943.000000</td>\n",
       "      <td>943.000000</td>\n",
       "      <td>943.000000</td>\n",
       "      <td>943.000000</td>\n",
       "      <td>943.000000</td>\n",
       "      <td>943.000000</td>\n",
       "      <td>943.000000</td>\n",
       "      <td>943.000000</td>\n",
       "      <td>943.000000</td>\n",
       "      <td>943.000000</td>\n",
       "      <td>943.000000</td>\n",
       "      <td>943.000000</td>\n",
       "      <td>943.000000</td>\n",
       "      <td>943.000000</td>\n",
       "      <td>943.000000</td>\n",
       "      <td>943.000000</td>\n",
       "      <td>943.000000</td>\n",
       "      <td>943.000000</td>\n",
       "    </tr>\n",
       "    <tr>\n",
       "      <th>mean</th>\n",
       "      <td>7652.188759</td>\n",
       "      <td>5.502853</td>\n",
       "      <td>1.504316</td>\n",
       "      <td>0.570880</td>\n",
       "      <td>3.349258</td>\n",
       "      <td>0.001601</td>\n",
       "      <td>21.239661</td>\n",
       "      <td>13.628844</td>\n",
       "      <td>193.025451</td>\n",
       "      <td>990.353128</td>\n",
       "      <td>2307.507953</td>\n",
       "      <td>0.489926</td>\n",
       "      <td>183.711559</td>\n",
       "      <td>200.867444</td>\n",
       "      <td>5.118134</td>\n",
       "      <td>11.283553</td>\n",
       "      <td>0.049841</td>\n",
       "      <td>1.789406</td>\n",
       "    </tr>\n",
       "    <tr>\n",
       "      <th>std</th>\n",
       "      <td>5086.532832</td>\n",
       "      <td>3.926509</td>\n",
       "      <td>2.657626</td>\n",
       "      <td>0.884775</td>\n",
       "      <td>2.046505</td>\n",
       "      <td>0.007335</td>\n",
       "      <td>32.946264</td>\n",
       "      <td>20.000746</td>\n",
       "      <td>109.308468</td>\n",
       "      <td>301.262473</td>\n",
       "      <td>720.815522</td>\n",
       "      <td>0.600472</td>\n",
       "      <td>222.446772</td>\n",
       "      <td>242.690161</td>\n",
       "      <td>18.879605</td>\n",
       "      <td>41.622405</td>\n",
       "      <td>1.083880</td>\n",
       "      <td>6.524423</td>\n",
       "    </tr>\n",
       "    <tr>\n",
       "      <th>min</th>\n",
       "      <td>0.000000</td>\n",
       "      <td>0.000000</td>\n",
       "      <td>0.000000</td>\n",
       "      <td>0.000000</td>\n",
       "      <td>0.000000</td>\n",
       "      <td>0.000000</td>\n",
       "      <td>0.000000</td>\n",
       "      <td>0.000000</td>\n",
       "      <td>0.000000</td>\n",
       "      <td>0.000000</td>\n",
       "      <td>0.000000</td>\n",
       "      <td>0.000000</td>\n",
       "      <td>0.000000</td>\n",
       "      <td>0.000000</td>\n",
       "      <td>0.000000</td>\n",
       "      <td>0.000000</td>\n",
       "      <td>0.000000</td>\n",
       "      <td>0.000000</td>\n",
       "    </tr>\n",
       "    <tr>\n",
       "      <th>25%</th>\n",
       "      <td>3795.000000</td>\n",
       "      <td>2.620000</td>\n",
       "      <td>0.000000</td>\n",
       "      <td>0.000000</td>\n",
       "      <td>1.950000</td>\n",
       "      <td>0.000000</td>\n",
       "      <td>0.000000</td>\n",
       "      <td>0.000000</td>\n",
       "      <td>127.000000</td>\n",
       "      <td>729.000000</td>\n",
       "      <td>1829.500000</td>\n",
       "      <td>0.000000</td>\n",
       "      <td>0.000000</td>\n",
       "      <td>0.000000</td>\n",
       "      <td>0.000000</td>\n",
       "      <td>0.000000</td>\n",
       "      <td>0.000000</td>\n",
       "      <td>0.000000</td>\n",
       "    </tr>\n",
       "    <tr>\n",
       "      <th>50%</th>\n",
       "      <td>7439.000000</td>\n",
       "      <td>5.260000</td>\n",
       "      <td>0.220000</td>\n",
       "      <td>0.240000</td>\n",
       "      <td>3.380000</td>\n",
       "      <td>0.000000</td>\n",
       "      <td>4.000000</td>\n",
       "      <td>7.000000</td>\n",
       "      <td>199.000000</td>\n",
       "      <td>1057.000000</td>\n",
       "      <td>2140.000000</td>\n",
       "      <td>0.000000</td>\n",
       "      <td>0.000000</td>\n",
       "      <td>0.000000</td>\n",
       "      <td>0.000000</td>\n",
       "      <td>0.000000</td>\n",
       "      <td>0.000000</td>\n",
       "      <td>0.000000</td>\n",
       "    </tr>\n",
       "    <tr>\n",
       "      <th>75%</th>\n",
       "      <td>10734.000000</td>\n",
       "      <td>7.720000</td>\n",
       "      <td>2.065000</td>\n",
       "      <td>0.805000</td>\n",
       "      <td>4.790000</td>\n",
       "      <td>0.000000</td>\n",
       "      <td>32.000000</td>\n",
       "      <td>19.000000</td>\n",
       "      <td>264.000000</td>\n",
       "      <td>1229.000000</td>\n",
       "      <td>2796.500000</td>\n",
       "      <td>1.000000</td>\n",
       "      <td>417.500000</td>\n",
       "      <td>450.500000</td>\n",
       "      <td>0.000000</td>\n",
       "      <td>0.000000</td>\n",
       "      <td>0.000000</td>\n",
       "      <td>0.000000</td>\n",
       "    </tr>\n",
       "    <tr>\n",
       "      <th>max</th>\n",
       "      <td>36019.000000</td>\n",
       "      <td>28.030001</td>\n",
       "      <td>21.920000</td>\n",
       "      <td>6.480000</td>\n",
       "      <td>10.710000</td>\n",
       "      <td>0.110000</td>\n",
       "      <td>210.000000</td>\n",
       "      <td>143.000000</td>\n",
       "      <td>518.000000</td>\n",
       "      <td>1440.000000</td>\n",
       "      <td>4900.000000</td>\n",
       "      <td>3.000000</td>\n",
       "      <td>796.000000</td>\n",
       "      <td>961.000000</td>\n",
       "      <td>133.500000</td>\n",
       "      <td>294.317120</td>\n",
       "      <td>25.000000</td>\n",
       "      <td>47.540001</td>\n",
       "    </tr>\n",
       "  </tbody>\n",
       "</table>\n",
       "</div>"
      ],
      "text/plain": [
       "         TotalSteps  TotalDistance  VeryActiveDistance  \\\n",
       "count    943.000000     943.000000          943.000000   \n",
       "mean    7652.188759       5.502853            1.504316   \n",
       "std     5086.532832       3.926509            2.657626   \n",
       "min        0.000000       0.000000            0.000000   \n",
       "25%     3795.000000       2.620000            0.000000   \n",
       "50%     7439.000000       5.260000            0.220000   \n",
       "75%    10734.000000       7.720000            2.065000   \n",
       "max    36019.000000      28.030001           21.920000   \n",
       "\n",
       "       ModeratelyActiveDistance  LightActiveDistance  SedentaryActiveDistance  \\\n",
       "count                943.000000           943.000000               943.000000   \n",
       "mean                   0.570880             3.349258                 0.001601   \n",
       "std                    0.884775             2.046505                 0.007335   \n",
       "min                    0.000000             0.000000                 0.000000   \n",
       "25%                    0.000000             1.950000                 0.000000   \n",
       "50%                    0.240000             3.380000                 0.000000   \n",
       "75%                    0.805000             4.790000                 0.000000   \n",
       "max                    6.480000            10.710000                 0.110000   \n",
       "\n",
       "       VeryActiveMinutes  FairlyActiveMinutes  LightlyActiveMinutes  \\\n",
       "count         943.000000           943.000000            943.000000   \n",
       "mean           21.239661            13.628844            193.025451   \n",
       "std            32.946264            20.000746            109.308468   \n",
       "min             0.000000             0.000000              0.000000   \n",
       "25%             0.000000             0.000000            127.000000   \n",
       "50%             4.000000             7.000000            199.000000   \n",
       "75%            32.000000            19.000000            264.000000   \n",
       "max           210.000000           143.000000            518.000000   \n",
       "\n",
       "       SedentaryMinutes     Calories  TotalSleepRecords  TotalMinutesAsleep  \\\n",
       "count        943.000000   943.000000         943.000000          943.000000   \n",
       "mean         990.353128  2307.507953           0.489926          183.711559   \n",
       "std          301.262473   720.815522           0.600472          222.446772   \n",
       "min            0.000000     0.000000           0.000000            0.000000   \n",
       "25%          729.000000  1829.500000           0.000000            0.000000   \n",
       "50%         1057.000000  2140.000000           0.000000            0.000000   \n",
       "75%         1229.000000  2796.500000           1.000000          417.500000   \n",
       "max         1440.000000  4900.000000           3.000000          796.000000   \n",
       "\n",
       "       TotalTimeInBed    WeightKg  WeightPounds         Fat         BMI  \n",
       "count      943.000000  943.000000    943.000000  943.000000  943.000000  \n",
       "mean       200.867444    5.118134     11.283553    0.049841    1.789406  \n",
       "std        242.690161   18.879605     41.622405    1.083880    6.524423  \n",
       "min          0.000000    0.000000      0.000000    0.000000    0.000000  \n",
       "25%          0.000000    0.000000      0.000000    0.000000    0.000000  \n",
       "50%          0.000000    0.000000      0.000000    0.000000    0.000000  \n",
       "75%        450.500000    0.000000      0.000000    0.000000    0.000000  \n",
       "max        961.000000  133.500000    294.317120   25.000000   47.540001  "
      ]
     },
     "execution_count": 25,
     "metadata": {},
     "output_type": "execute_result"
    }
   ],
   "source": [
    "merged_df.describe()"
   ]
  },
  {
   "cell_type": "markdown",
   "id": "f144b54b-a299-4efb-bd46-3ed15a12bb0f",
   "metadata": {},
   "source": [
    "#### Determine the merged dataframe shape"
   ]
  },
  {
   "cell_type": "code",
   "execution_count": 26,
   "id": "6969a391-641c-4c67-b6f5-564acfcb6ce9",
   "metadata": {},
   "outputs": [
    {
     "name": "stdout",
     "output_type": "stream",
     "text": [
      "Shape of merged dataframe:  (943, 18)\n"
     ]
    }
   ],
   "source": [
    "print(\"Shape of merged dataframe: \", merged_df.shape)"
   ]
  },
  {
   "cell_type": "markdown",
   "id": "a8308603-f1e8-4b92-aa96-148c9f5a4c94",
   "metadata": {},
   "source": [
    "#### Get average total steps per Id, for the first five Ids"
   ]
  },
  {
   "cell_type": "code",
   "execution_count": 27,
   "id": "51da97f1-c865-4e2c-b2da-0a536f49baca",
   "metadata": {},
   "outputs": [
    {
     "name": "stdout",
     "output_type": "stream",
     "text": [
      "              TotalSteps\n",
      "Id                      \n",
      "1503960366  12116.741935\n",
      "1624580081   5743.903226\n",
      "1644430081   7282.966667\n",
      "1844505072   2580.064516\n",
      "1927972279    916.129032\n"
     ]
    }
   ],
   "source": [
    "print(merged_df[['TotalSteps']].groupby('Id').mean().head()) "
   ]
  },
  {
   "cell_type": "markdown",
   "id": "e733f405-bd2e-4586-a31c-b5a6d3e7aca9",
   "metadata": {},
   "source": [
    "#### Build dataframes to chart the data"
   ]
  },
  {
   "cell_type": "code",
   "execution_count": 28,
   "id": "9f411cc6-dc2f-41bd-bbbf-c39c79d9bcb0",
   "metadata": {},
   "outputs": [],
   "source": [
    "df_heatmap = merged_df.copy()"
   ]
  },
  {
   "cell_type": "code",
   "execution_count": 29,
   "id": "bcb58175-18a2-4dda-af5e-8de28374e660",
   "metadata": {},
   "outputs": [],
   "source": [
    "df_scattermap = merged_df.copy()\n",
    "df_scattermap = df_scattermap[['TotalMinutesAsleep', 'Calories']]"
   ]
  },
  {
   "cell_type": "code",
   "execution_count": 30,
   "id": "8a47ab93-73b1-4049-a235-94f7ab4fd640",
   "metadata": {},
   "outputs": [
    {
     "data": {
      "text/html": [
       "<div>\n",
       "<style scoped>\n",
       "    .dataframe tbody tr th:only-of-type {\n",
       "        vertical-align: middle;\n",
       "    }\n",
       "\n",
       "    .dataframe tbody tr th {\n",
       "        vertical-align: top;\n",
       "    }\n",
       "\n",
       "    .dataframe thead th {\n",
       "        text-align: right;\n",
       "    }\n",
       "</style>\n",
       "<table border=\"1\" class=\"dataframe\">\n",
       "  <thead>\n",
       "    <tr style=\"text-align: right;\">\n",
       "      <th></th>\n",
       "      <th></th>\n",
       "      <th>TotalMinutesAsleep</th>\n",
       "      <th>Calories</th>\n",
       "    </tr>\n",
       "    <tr>\n",
       "      <th>Id</th>\n",
       "      <th>Date_Merge</th>\n",
       "      <th></th>\n",
       "      <th></th>\n",
       "    </tr>\n",
       "  </thead>\n",
       "  <tbody>\n",
       "    <tr>\n",
       "      <th rowspan=\"5\" valign=\"top\">1503960366</th>\n",
       "      <th>2016-04-12</th>\n",
       "      <td>327.0</td>\n",
       "      <td>1985.0</td>\n",
       "    </tr>\n",
       "    <tr>\n",
       "      <th>2016-04-13</th>\n",
       "      <td>384.0</td>\n",
       "      <td>1797.0</td>\n",
       "    </tr>\n",
       "    <tr>\n",
       "      <th>2016-04-14</th>\n",
       "      <td>0.0</td>\n",
       "      <td>1776.0</td>\n",
       "    </tr>\n",
       "    <tr>\n",
       "      <th>2016-04-15</th>\n",
       "      <td>412.0</td>\n",
       "      <td>1745.0</td>\n",
       "    </tr>\n",
       "    <tr>\n",
       "      <th>2016-04-16</th>\n",
       "      <td>340.0</td>\n",
       "      <td>1863.0</td>\n",
       "    </tr>\n",
       "  </tbody>\n",
       "</table>\n",
       "</div>"
      ],
      "text/plain": [
       "                       TotalMinutesAsleep  Calories\n",
       "Id         Date_Merge                              \n",
       "1503960366 2016-04-12               327.0    1985.0\n",
       "           2016-04-13               384.0    1797.0\n",
       "           2016-04-14                 0.0    1776.0\n",
       "           2016-04-15               412.0    1745.0\n",
       "           2016-04-16               340.0    1863.0"
      ]
     },
     "execution_count": 30,
     "metadata": {},
     "output_type": "execute_result"
    }
   ],
   "source": [
    "df_scattermap.head()"
   ]
  },
  {
   "cell_type": "markdown",
   "id": "7f7e7319-99c5-4d0e-932d-cfce1516f4be",
   "metadata": {},
   "source": [
    "### Create a heatmap for correlation"
   ]
  },
  {
   "cell_type": "code",
   "execution_count": 31,
   "id": "9b5435c3-ea4c-41ef-b938-f608a9c9beca",
   "metadata": {},
   "outputs": [
    {
     "data": {
      "image/png": "[encoded data removed]",
      "text/plain": [
       "<Figure size 1200x800 with 2 Axes>"
      ]
     },
     "metadata": {},
     "output_type": "display_data"
    }
   ],
   "source": [
    "plt.figure(figsize=(12,8))\n",
    "sns.heatmap(merged_df.corr(), annot=True)\n",
    "plt.show()"
   ]
  },
  {
   "cell_type": "markdown",
   "id": "0ce843b6-5820-47c3-9503-884451d7e4ba",
   "metadata": {},
   "source": [
    "### Scattermap with directional lines to correlation between 'TotalMinutesAsleep' and 'Calories'"
   ]
  },
  {
   "cell_type": "code",
   "execution_count": 32,
   "id": "8e333f21-201b-4b4f-b19f-ce7d244c189e",
   "metadata": {},
   "outputs": [
    {
     "data": {
      "image/png": "[encoded data removed]",
      "text/plain": [
       "<Figure size 600x600 with 3 Axes>"
      ]
     },
     "metadata": {},
     "output_type": "display_data"
    }
   ],
   "source": [
    "g = sns.jointplot(x=\"TotalMinutesAsleep\", y=\"Calories\", data=df_scattermap, kind=\"reg\")\n",
    "plt.show()"
   ]
  },
  {
   "cell_type": "markdown",
   "id": "b9ec8465-af54-4d21-8e75-d5fe8c1786d3",
   "metadata": {},
   "source": [
    "### Add Principal Component Analysis to determine and confirm the Features that need to be used for the models that will be built later"
   ]
  },
  {
   "cell_type": "markdown",
   "id": "f06c3754-a71c-48e4-a492-eb0339ea3ae3",
   "metadata": {},
   "source": [
    "#### First build datasets for each model\n",
    "##### Model type 1: \n",
    "predict how many calories will be burned in the next 7 days for each 'Id', based on the features in the dataframe that are closely related \n",
    "to calories\n",
    "\n",
    "##### Model type 2: \n",
    "predict how many steps per day in the next 7 days for each 'Id', based on the features in the dataframe that are closely related \n",
    "to steps\n",
    "##### Model type 3: \n",
    "predict how many 'Calories', 'TotalDistance', 'TotalMinutesAsleep', 'WeightPounds', 'BMI', 'VeryActiveDistance', 'ModeratelyActiveDistance', \n",
    "'LightActiveDistance', 'SedentaryActiveDistance', 'VeryActiveMinutes','FairlyActiveMinutes','LightlyActiveMinutes','SedentaryMinutes' per day in \n",
    "the next 7 days for 'Id' ['1927972279'], to get to ten thousand steps per day"
   ]
  },
  {
   "cell_type": "code",
   "execution_count": 33,
   "id": "09783446-a5bb-4146-97fd-f4e04f5c09b7",
   "metadata": {},
   "outputs": [],
   "source": [
    "df_calories_burned = merged_df.copy()\n",
    "df_calories_burned_target = df_calories_burned[['Calories']]\n",
    "df_calories_burned_no_target = df_calories_burned.drop(['Calories'], axis = 1)\n",
    "\n",
    "df_total_steps = merged_df.copy()\n",
    "df_total_steps_target = df_total_steps[['TotalSteps']]\n",
    "df_total_steps_no_target = df_total_steps.drop(['TotalSteps'], axis = 1)\n",
    "\n",
    "# get the dataset only for Id = 192797227\n",
    "df_multivariate_per_Id = merged_df.loc[1927972279].copy()\n",
    "df_multivariate_per_Id_features = df_multivariate_per_Id\n",
    "# Define target columns\n",
    "targets = ['Calories', 'TotalDistance', 'TotalMinutesAsleep', \n",
    "           'WeightPounds', 'BMI', 'VeryActiveDistance', \n",
    "           'ModeratelyActiveDistance', 'LightActiveDistance', \n",
    "           'SedentaryActiveDistance', 'VeryActiveMinutes',\n",
    "           'FairlyActiveMinutes','LightlyActiveMinutes', \n",
    "           'SedentaryMinutes']\n",
    "\n",
    "# Create df_multivariate_per_Id_targets dataframe\n",
    "df_multivariate_per_Id_targets = df_multivariate_per_Id[targets]\n"
   ]
  },
  {
   "cell_type": "code",
   "execution_count": 34,
   "id": "95c66332-bfe8-40de-b509-0458d6c26367",
   "metadata": {},
   "outputs": [],
   "source": [
    "#Set both data sets as X and y for the models, will be used with all models\n",
    "X_calories_burned = df_calories_burned_no_target.copy()\n",
    "y_calories_burned = df_calories_burned_target.copy()\n",
    "\n",
    "X_total_steps = df_total_steps_no_target.copy()\n",
    "y_total_steps = df_total_steps_target.copy()\n",
    "\n",
    "X_multivariate_per_Id_features = df_multivariate_per_Id_features\n",
    "y_multivariate_per_Id_targets = df_multivariate_per_Id_targets\n",
    "\n",
    "\n",
    "# used the first ID in the dataset, will be used for PCA\n",
    "X_calories_burned_user = df_calories_burned_no_target.loc[1503960366].copy()\n",
    "y_calories_burned_user = df_calories_burned_target.loc[1503960366].copy()\n",
    "\n",
    "X_total_steps_user = df_total_steps_no_target.loc[1503960366].copy()\n",
    "y_total_steps_user = df_total_steps_target.loc[1503960366].copy()"
   ]
  },
  {
   "cell_type": "markdown",
   "id": "88b7a262-9573-493c-a3b5-14ac7923c1ca",
   "metadata": {},
   "source": [
    "#### Scale the data for each dataframe that has no target"
   ]
  },
  {
   "cell_type": "code",
   "execution_count": 35,
   "id": "da3cc866-75fa-4813-8c43-fa174d3a7e36",
   "metadata": {},
   "outputs": [],
   "source": [
    "calories_burned_features_scaler = MinMaxScaler(feature_range = (0,1))\n",
    "\n",
    "X_calories_burned_normalized_0_to_1 = calories_burned_features_scaler.fit_transform(X_calories_burned)"
   ]
  },
  {
   "cell_type": "code",
   "execution_count": 36,
   "id": "536dc1c1",
   "metadata": {},
   "outputs": [],
   "source": [
    "calories_burned_targets_scaler = MinMaxScaler(feature_range = (0,1))\n",
    "\n",
    "# Fit the scaler to the targets and transform them\n",
    "y_calories_burned_normalized_0_to_1 = calories_burned_targets_scaler.fit_transform(y_calories_burned)"
   ]
  },
  {
   "cell_type": "code",
   "execution_count": 37,
   "id": "8a2b2081-f2e7-403e-943b-46978386bb2c",
   "metadata": {},
   "outputs": [],
   "source": [
    "calories_user_scaler = MinMaxScaler(feature_range = (0,1))\n",
    "\n",
    "X_calories_burned_user_normalized_0_to_1 = calories_user_scaler.fit_transform(X_calories_burned_user)"
   ]
  },
  {
   "cell_type": "code",
   "execution_count": 38,
   "id": "016a7684-6a78-4e2e-9651-c70de05cb52f",
   "metadata": {},
   "outputs": [],
   "source": [
    "total_steps_features_scaler = MinMaxScaler(feature_range = (0,1))\n",
    "\n",
    "X_total_steps_normalized_0_to_1 = total_steps_features_scaler.fit_transform(X_total_steps)"
   ]
  },
  {
   "cell_type": "code",
   "execution_count": 39,
   "id": "b11cd21e",
   "metadata": {},
   "outputs": [],
   "source": [
    "total_steps_target_scaler = MinMaxScaler(feature_range = (0,1))\n",
    "\n",
    "# Fit the scaler to the targets and transform them\n",
    "y_total_steps_normalized_0_to_1 = total_steps_target_scaler.fit_transform(y_total_steps)"
   ]
  },
  {
   "cell_type": "code",
   "execution_count": 40,
   "id": "1413aef6-d48c-4b2a-b6b4-ab5e8b7d6058",
   "metadata": {},
   "outputs": [],
   "source": [
    "total_steps_user_scaler = MinMaxScaler(feature_range = (0,1))\n",
    "\n",
    "X_total_steps_user_normalized_0_to_1 = total_steps_user_scaler.fit_transform(X_total_steps_user)"
   ]
  },
  {
   "cell_type": "code",
   "execution_count": 41,
   "id": "7d316b2d-69bc-4763-97b4-1737848ead49",
   "metadata": {},
   "outputs": [],
   "source": [
    "multivariate_features_scaler = MinMaxScaler(feature_range = (0,1))\n",
    "\n",
    "X_multivariate_per_Id_features_normalized_0_to_1 = multivariate_features_scaler.fit_transform(X_multivariate_per_Id_features)"
   ]
  },
  {
   "cell_type": "code",
   "execution_count": 42,
   "id": "572a6e36",
   "metadata": {},
   "outputs": [],
   "source": [
    "multivariate_target_scaler = MinMaxScaler(feature_range = (0,1))\n",
    "\n",
    "# Fit the scaler to the targets and transform them\n",
    "y_multivariate_per_Id_normalized_0_to_1 = multivariate_target_scaler.fit_transform(y_multivariate_per_Id_targets)"
   ]
  },
  {
   "cell_type": "markdown",
   "id": "84239284-3c52-4df8-a5cc-d574446a49d8",
   "metadata": {},
   "source": [
    "#### Run the Principal Component Analysis for predicting calories burned"
   ]
  },
  {
   "cell_type": "code",
   "execution_count": 43,
   "id": "6c03f0f0-0592-4a82-a1e0-e8022aa1dd1f",
   "metadata": {},
   "outputs": [
    {
     "data": {
      "text/html": [
       "<style>#sk-container-id-1 {color: black;}#sk-container-id-1 pre{padding: 0;}#sk-container-id-1 div.sk-toggleable {background-color: white;}#sk-container-id-1 label.sk-toggleable__label {cursor: pointer;display: block;width: 100%;margin-bottom: 0;padding: 0.3em;box-sizing: border-box;text-align: center;}#sk-container-id-1 label.sk-toggleable__label-arrow:before {content: \"▸\";float: left;margin-right: 0.25em;color: #696969;}#sk-container-id-1 label.sk-toggleable__label-arrow:hover:before {color: black;}#sk-container-id-1 div.sk-estimator:hover label.sk-toggleable__label-arrow:before {color: black;}#sk-container-id-1 div.sk-toggleable__content {max-height: 0;max-width: 0;overflow: hidden;text-align: left;background-color: #f0f8ff;}#sk-container-id-1 div.sk-toggleable__content pre {margin: 0.2em;color: black;border-radius: 0.25em;background-color: #f0f8ff;}#sk-container-id-1 input.sk-toggleable__control:checked~div.sk-toggleable__content {max-height: 200px;max-width: 100%;overflow: auto;}#sk-container-id-1 input.sk-toggleable__control:checked~label.sk-toggleable__label-arrow:before {content: \"▾\";}#sk-container-id-1 div.sk-estimator input.sk-toggleable__control:checked~label.sk-toggleable__label {background-color: #d4ebff;}#sk-container-id-1 div.sk-label input.sk-toggleable__control:checked~label.sk-toggleable__label {background-color: #d4ebff;}#sk-container-id-1 input.sk-hidden--visually {border: 0;clip: rect(1px 1px 1px 1px);clip: rect(1px, 1px, 1px, 1px);height: 1px;margin: -1px;overflow: hidden;padding: 0;position: absolute;width: 1px;}#sk-container-id-1 div.sk-estimator {font-family: monospace;background-color: #f0f8ff;border: 1px dotted black;border-radius: 0.25em;box-sizing: border-box;margin-bottom: 0.5em;}#sk-container-id-1 div.sk-estimator:hover {background-color: #d4ebff;}#sk-container-id-1 div.sk-parallel-item::after {content: \"\";width: 100%;border-bottom: 1px solid gray;flex-grow: 1;}#sk-container-id-1 div.sk-label:hover label.sk-toggleable__label {background-color: #d4ebff;}#sk-container-id-1 div.sk-serial::before {content: \"\";position: absolute;border-left: 1px solid gray;box-sizing: border-box;top: 0;bottom: 0;left: 50%;z-index: 0;}#sk-container-id-1 div.sk-serial {display: flex;flex-direction: column;align-items: center;background-color: white;padding-right: 0.2em;padding-left: 0.2em;position: relative;}#sk-container-id-1 div.sk-item {position: relative;z-index: 1;}#sk-container-id-1 div.sk-parallel {display: flex;align-items: stretch;justify-content: center;background-color: white;position: relative;}#sk-container-id-1 div.sk-item::before, #sk-container-id-1 div.sk-parallel-item::before {content: \"\";position: absolute;border-left: 1px solid gray;box-sizing: border-box;top: 0;bottom: 0;left: 50%;z-index: -1;}#sk-container-id-1 div.sk-parallel-item {display: flex;flex-direction: column;z-index: 1;position: relative;background-color: white;}#sk-container-id-1 div.sk-parallel-item:first-child::after {align-self: flex-end;width: 50%;}#sk-container-id-1 div.sk-parallel-item:last-child::after {align-self: flex-start;width: 50%;}#sk-container-id-1 div.sk-parallel-item:only-child::after {width: 0;}#sk-container-id-1 div.sk-dashed-wrapped {border: 1px dashed gray;margin: 0 0.4em 0.5em 0.4em;box-sizing: border-box;padding-bottom: 0.4em;background-color: white;}#sk-container-id-1 div.sk-label label {font-family: monospace;font-weight: bold;display: inline-block;line-height: 1.2em;}#sk-container-id-1 div.sk-label-container {text-align: center;}#sk-container-id-1 div.sk-container {/* jupyter's `normalize.less` sets `[hidden] { display: none; }` but bootstrap.min.css set `[hidden] { display: none !important; }` so we also need the `!important` here to be able to override the default hidden behavior on the sphinx rendered scikit-learn.org. See: https://github.com/scikit-learn/scikit-learn/issues/21755 */display: inline-block !important;position: relative;}#sk-container-id-1 div.sk-text-repr-fallback {display: none;}</style><div id=\"sk-container-id-1\" class=\"sk-top-container\"><div class=\"sk-text-repr-fallback\"><pre>PCA()</pre><b>In a Jupyter environment, please rerun this cell to show the HTML representation or trust the notebook. <br />On GitHub, the HTML representation is unable to render, please try loading this page with nbviewer.org.</b></div><div class=\"sk-container\" hidden><div class=\"sk-item\"><div class=\"sk-estimator sk-toggleable\"><input class=\"sk-toggleable__control sk-hidden--visually\" id=\"sk-estimator-id-1\" type=\"checkbox\" checked><label for=\"sk-estimator-id-1\" class=\"sk-toggleable__label sk-toggleable__label-arrow\">PCA</label><div class=\"sk-toggleable__content\"><pre>PCA()</pre></div></div></div></div></div>"
      ],
      "text/plain": [
       "PCA()"
      ]
     },
     "execution_count": 43,
     "metadata": {},
     "output_type": "execute_result"
    }
   ],
   "source": [
    "pca_calories_burned = PCA()\n",
    "pca_calories_burned.fit(X_calories_burned_user_normalized_0_to_1,y_calories_burned_user)\n",
    "\n",
    "pca_total_steps = PCA()\n",
    "pca_total_steps.fit(X_total_steps_user_normalized_0_to_1,y_total_steps_user)\n",
    "\n",
    "# not running PCA for multivariate\n",
    "#pca_multivariate_per_Id = PCA()\n",
    "#pca_multivariate_per_Id.fit(X_multivariate_per_Id_features,y_multivariate_per_Id_targets)"
   ]
  },
  {
   "cell_type": "markdown",
   "id": "4b260662-45b9-4f18-bff7-3ed4b5ad01ea",
   "metadata": {},
   "source": [
    "#### Transform the data and apply dimensionality reduction"
   ]
  },
  {
   "cell_type": "code",
   "execution_count": 44,
   "id": "46cc9fdb-d42b-49be-9499-f10eb65d9d7d",
   "metadata": {},
   "outputs": [
    {
     "data": {
      "text/plain": [
       "array([[-1.25958205e-01, -1.79405988e-01,  8.65427321e-02,\n",
       "        -4.09978580e-01, -2.93418886e-01, -1.35709433e-01,\n",
       "         9.21483674e-02,  5.74417445e-02, -1.62162175e-02,\n",
       "        -1.54056587e-02,  4.19156593e-03, -3.48368592e-03,\n",
       "         1.20664396e-03,  7.36477249e-04, -7.80069500e-17,\n",
       "        -7.22816808e-17,  6.19516270e-18],\n",
       "       [-1.51061572e-01, -4.46274665e-01,  2.89285251e-01,\n",
       "        -7.06573569e-02, -2.40875758e-01,  3.19955479e-01,\n",
       "        -1.22831618e-01, -5.13429486e-03, -4.74085927e-02,\n",
       "         2.03383761e-02,  7.27134825e-03, -6.38192808e-03,\n",
       "        -5.03665681e-03, -6.14546862e-04, -1.55569049e-17,\n",
       "        -4.45261052e-17, -1.46215190e-17],\n",
       "       [ 7.20396840e-01,  5.43605606e-01,  7.77906047e-02,\n",
       "        -1.02490178e-01, -9.70405629e-02, -6.28423932e-02,\n",
       "         3.53141672e-02, -2.43686982e-02, -1.34143340e-02,\n",
       "         1.41794994e-02,  8.33536773e-03, -2.40528537e-03,\n",
       "         1.21498722e-02, -2.72584740e-04, -8.61801098e-18,\n",
       "        -9.83163570e-18,  4.26243557e-17],\n",
       "       [-3.05810096e-02, -3.88143205e-01,  1.81152739e-02,\n",
       "         4.38162432e-01, -7.29977981e-02, -7.61911098e-02,\n",
       "         5.89855947e-03,  5.50703183e-02, -4.51210505e-02,\n",
       "         4.97101338e-02, -1.16619306e-02,  7.41239360e-03,\n",
       "        -3.25780668e-04,  1.67469485e-03, -5.02513744e-17,\n",
       "        -9.83163570e-18, -3.54382007e-17],\n",
       "       [-1.68607286e-01, -3.11161473e-01,  1.73243527e-01,\n",
       "        -3.41247678e-01, -3.68985075e-02,  3.92425751e-01,\n",
       "        -1.44147779e-01,  8.74211945e-03,  2.34386659e-03,\n",
       "         6.26357593e-03,  1.53141417e-02, -3.94568819e-03,\n",
       "         1.40909613e-03,  5.71242562e-05,  5.25977683e-18,\n",
       "        -2.37094235e-17,  3.39507383e-17],\n",
       "       [-2.47368607e-01, -6.99474710e-01,  2.22935469e-01,\n",
       "         2.48129588e-01,  4.70376929e-01, -1.84460368e-01,\n",
       "         5.33077219e-02, -1.11298579e-01, -1.92302992e-02,\n",
       "         1.16484084e-02,  2.00149426e-02, -4.46762319e-03,\n",
       "        -1.79680960e-03, -4.42448130e-04, -8.61801098e-18,\n",
       "        -2.89274180e-18, -8.57451815e-17],\n",
       "       [ 5.19588058e-01,  5.59571702e-01, -2.44670449e-01,\n",
       "        -1.83551800e-01, -1.32064474e-01, -1.03424504e-01,\n",
       "         4.78363525e-02,  7.47378588e-03, -1.48111310e-02,\n",
       "         2.63254945e-03,  8.47482946e-03, -2.49004926e-03,\n",
       "        -5.26234023e-03, -5.04337753e-04, -1.67911707e-18,\n",
       "        -5.14649991e-17,  6.17063139e-17],\n",
       "       [-1.99388058e-01, -1.14625913e-01, -4.62825932e-01,\n",
       "         2.15571486e-02, -1.38224011e-01, -3.29709398e-03,\n",
       "        -1.73205119e-02, -8.68074567e-03, -4.85409579e-03,\n",
       "        -1.19690876e-02, -4.31249293e-03, -5.80022026e-03,\n",
       "         2.26413108e-03, -2.77959825e-04, -3.63735866e-17,\n",
       "         1.09850460e-17, -5.97243294e-17],\n",
       "       [ 9.14760748e-02, -2.04170440e-01,  2.73553230e-01,\n",
       "        -1.14797067e-01, -3.18278697e-04, -4.92508658e-03,\n",
       "         1.39714093e-02, -4.67808121e-02,  8.47140677e-03,\n",
       "        -4.61475745e-03, -1.74343948e-02, -4.29408086e-03,\n",
       "         3.75648480e-04, -2.47071038e-04,  5.25977683e-18,\n",
       "        -2.89274180e-18, -2.32951364e-17],\n",
       "       [ 1.49975446e-01, -1.83597576e-01,  4.15984321e-01,\n",
       "        -2.02424360e-01, -1.07345220e-01, -1.53341173e-02,\n",
       "         3.06806542e-02, -5.67812570e-02,  2.23727413e-02,\n",
       "        -6.16226813e-03, -7.25582565e-03,  1.96198096e-02,\n",
       "        -2.44931635e-03, -4.17820669e-04,  1.21986707e-17,\n",
       "         4.04615210e-18,  2.72571575e-18],\n",
       "       [ 6.09280899e-01,  5.89375411e-01, -5.29514962e-01,\n",
       "         3.17905157e-01,  2.46461890e-01,  7.04310284e-02,\n",
       "        -7.43091212e-02,  8.49837551e-03,  2.32621165e-03,\n",
       "        -3.64550868e-03, -1.34103202e-02, -4.48434693e-03,\n",
       "         3.02357638e-03,  5.37698930e-04,  4.68931403e-17,\n",
       "         3.18017277e-17,  3.74201853e-17],\n",
       "       [-1.76637388e-01, -1.98242156e-01, -1.56959536e-01,\n",
       "        -1.69584824e-01, -9.71848579e-02, -6.03573407e-02,\n",
       "         2.67322290e-02, -4.96993743e-02,  1.11042391e-02,\n",
       "        -7.70943462e-03, -2.60422096e-02, -2.03997340e-03,\n",
       "         4.44140216e-03, -3.53579100e-04, -2.24957988e-17,\n",
       "         2.48628338e-17, -6.31937763e-17],\n",
       "       [ 2.28728014e-02, -2.84636532e-01,  3.06876128e-01,\n",
       "        -2.16609766e-01,  3.13411412e-01, -4.78411502e-02,\n",
       "         4.24910319e-02,  1.23060091e-01, -3.80044027e-03,\n",
       "        -2.24470701e-02, -1.00295869e-02, -5.14061741e-03,\n",
       "         2.87008696e-04,  1.06164003e-05, -1.67911707e-18,\n",
       "        -3.75872113e-17,  2.35423975e-17],\n",
       "       [-6.69839656e-02,  2.95305960e-02, -3.86288423e-01,\n",
       "        -2.51785685e-01,  4.36784816e-01,  1.53284716e-01,\n",
       "        -7.45866418e-02,  4.06736294e-02,  1.65139252e-02,\n",
       "        -9.21800794e-03, -2.87556976e-02,  2.15427991e-02,\n",
       "         1.46507610e-04, -4.90491020e-04,  6.07709281e-17,\n",
       "         5.95573033e-17,  3.22160148e-17],\n",
       "       [-4.42909629e-02, -6.44937283e-02, -1.32415819e-01,\n",
       "        -1.53896767e-01, -3.19991950e-01, -1.77530600e-02,\n",
       "         1.53424972e-02,  6.70819298e-03, -2.21198588e-02,\n",
       "         1.07289176e-02,  4.65431986e-03,  8.13429868e-03,\n",
       "         1.02265851e-02, -3.07118861e-04, -6.41291622e-17,\n",
       "         4.04615210e-18, -3.37034772e-17],\n",
       "       [ 2.94953489e-01,  7.23460925e-01, -7.46375559e-01,\n",
       "        -5.44893725e-01,  3.01862278e-01, -8.44368479e-03,\n",
       "        -1.38068666e-03, -3.86782398e-02, -1.77816902e-02,\n",
       "         1.60660890e-02,  3.98535445e-02,  1.71590227e-03,\n",
       "        -4.28050324e-03,  1.25794483e-04,  1.21986707e-17,\n",
       "        -6.53427869e-17,  1.32829976e-16],\n",
       "       [-8.81947083e-02, -2.05809237e-01, -2.47030139e-01,\n",
       "         1.78307505e-01,  9.28586618e-02,  3.53311107e-02,\n",
       "        -4.39000980e-02, -7.12900058e-02,  5.44095463e-03,\n",
       "         1.05619614e-02,  3.43802185e-03,  8.60005200e-03,\n",
       "        -3.75019602e-04,  1.98876300e-03, -8.61801098e-18,\n",
       "         4.04615210e-18, -9.41734859e-18],\n",
       "       [ 4.41635851e-02, -2.00175694e-01,  3.16477679e-01,\n",
       "        -2.48197318e-01, -2.82907379e-01, -7.18131225e-02,\n",
       "         5.55921958e-02, -9.50568828e-02,  1.01578177e-02,\n",
       "        -7.84558629e-03, -1.07153062e-02, -7.08699525e-03,\n",
       "        -1.66074660e-03,  5.67251637e-04, -2.94346927e-17,\n",
       "        -3.75872113e-17, -2.15604129e-17],\n",
       "       [-2.42732597e-01, -2.72082331e-01, -4.15862661e-01,\n",
       "         2.13014299e-01,  1.42043849e-02, -2.84653396e-02,\n",
       "        -2.35231925e-02, -7.90096690e-02,  1.33790015e-02,\n",
       "        -1.09168888e-04, -2.34617055e-02, -2.68251837e-03,\n",
       "         1.02309910e-03, -7.73473100e-04, -8.61801098e-18,\n",
       "         5.95573033e-17, -1.06561863e-16],\n",
       "       [-6.75242007e-02, -3.36473774e-01, -1.38267533e-01,\n",
       "         4.57259223e-01, -1.59434075e-01, -7.76383231e-02,\n",
       "         9.69326151e-03,  1.43028900e-01, -6.70608599e-03,\n",
       "        -3.61741808e-02,  2.54772089e-02,  7.25641325e-03,\n",
       "         1.53385885e-04, -4.76482669e-04, -6.41291622e-17,\n",
       "         4.04615210e-18, -6.49284998e-17],\n",
       "       [-1.34821329e+00,  1.19192537e+00,  5.73147790e-01,\n",
       "         5.51201987e-02, -7.35647761e-04, -1.97079887e-01,\n",
       "        -3.79834445e-01,  4.71664269e-03,  2.35264592e-04,\n",
       "        -4.86764143e-04,  6.06220065e-05, -1.98168825e-05,\n",
       "         8.17913438e-06, -2.07335546e-09,  1.40557283e-16,\n",
       "        -9.25677376e-17,  1.14978479e-16],\n",
       "       [-1.16419696e+00,  1.00025560e+00,  2.20146656e-01,\n",
       "         3.33779370e-01,  5.76835451e-02,  2.29280256e-01,\n",
       "         4.48952535e-01, -5.03417737e-03, -2.22663933e-04,\n",
       "         5.66431010e-04, -1.03607142e-04,  1.77411840e-05,\n",
       "        -1.00387674e-05,  1.37503979e-09,  1.40557283e-16,\n",
       "         1.29476867e-16,  3.17117526e-17],\n",
       "       [ 6.17748094e-01,  5.04227142e-01, -1.53530495e-01,\n",
       "         9.69522273e-02, -2.00848496e-01, -9.43322645e-02,\n",
       "         3.26322009e-02,  2.52477285e-02, -1.22777500e-02,\n",
       "         2.03887363e-03, -2.32371418e-02, -5.90371148e-03,\n",
       "        -9.24762225e-03, -4.69466946e-04,  1.21986707e-17,\n",
       "        -3.06483174e-17,  3.22160148e-17],\n",
       "       [-3.06153454e-02, -2.97815115e-02, -2.63934516e-01,\n",
       "        -4.92617017e-02, -1.55975926e-01,  5.14181802e-02,\n",
       "        -2.67489832e-02,  1.12414254e-02,  1.37514985e-02,\n",
       "        -3.79301288e-02, -2.14190227e-02, -5.49557065e-03,\n",
       "        -4.65559727e-03,  1.11665232e-03, -8.61801098e-18,\n",
       "        -2.37094235e-17, -7.68262511e-18],\n",
       "       [-3.84892865e-02, -1.68806880e-01,  2.49314721e-01,\n",
       "        -4.81016227e-01, -1.49807723e-01, -9.30547421e-02,\n",
       "         7.80682763e-02,  2.28453729e-03, -2.24375577e-03,\n",
       "        -3.85628749e-03,  1.36740010e-02,  1.38872829e-02,\n",
       "        -3.03203468e-03, -4.29396461e-05, -3.63735866e-17,\n",
       "        -5.14649991e-17,  3.22160148e-17],\n",
       "       [-4.91747737e-02, -2.61277723e-01, -3.85978891e-01,\n",
       "         7.14488405e-01, -2.57361615e-01,  2.37615226e-02,\n",
       "        -6.61073050e-02, -5.76528897e-02,  2.37985828e-02,\n",
       "        -3.64698727e-02,  3.38098965e-02,  4.03427306e-03,\n",
       "        -9.99117152e-04, -4.06028590e-04, -3.63735866e-17,\n",
       "         4.56795155e-17, -1.13500757e-16],\n",
       "       [-1.46153279e-01, -5.13140021e-01,  2.79447887e-01,\n",
       "        -7.71032130e-02,  5.43869083e-01, -1.21847530e-01,\n",
       "         5.46919043e-02,  3.06758427e-02,  4.81643810e-03,\n",
       "        -2.42485493e-03,  7.91526919e-03, -4.66943064e-03,\n",
       "        -9.61953518e-06, -9.11501211e-05, -1.67911707e-18,\n",
       "        -1.67705296e-17, -1.11520721e-17],\n",
       "       [ 6.25219345e-02, -1.03727107e-01,  3.44554367e-02,\n",
       "        -1.46383585e-01,  2.24594059e-01,  7.25458217e-02,\n",
       "        -2.60557133e-02,  1.56678302e-02,  8.06567185e-03,\n",
       "        -3.37086828e-02,  1.11720818e-02, -1.43784371e-02,\n",
       "         3.63268785e-03,  6.05091068e-04, -1.67911707e-18,\n",
       "        -3.06483174e-17,  1.83382270e-17],\n",
       "       [-9.02951418e-02, -2.62073935e-01, -2.08094638e-01,\n",
       "         2.58009375e-01,  8.10136804e-02, -7.65377029e-03,\n",
       "        -2.43423328e-02,  3.80986518e-02, -3.49378824e-02,\n",
       "         3.34093522e-02, -2.00487851e-02, -3.51308049e-03,\n",
       "        -2.71090289e-04, -1.15204074e-03, -1.55569049e-17,\n",
       "         3.18017277e-17, -6.83979468e-17],\n",
       "       [-7.10175097e-02, -1.73146250e-01, -1.11531615e-01,\n",
       "        -1.76865400e-02, -1.49785871e-01, -3.31367385e-02,\n",
       "         1.42522711e-02,  7.93553744e-02,  1.04405343e-01,\n",
       "         6.60160935e-02,  1.23107284e-02, -6.85282075e-03,\n",
       "        -9.25079145e-04, -1.06082726e-04, -5.02513744e-17,\n",
       "         1.79239399e-17,  2.72571575e-18],\n",
       "       [ 1.41450692e+00,  4.58768502e-01,  1.04596446e+00,\n",
       "         4.48881444e-01,  1.10096296e-01,  9.71671944e-02,\n",
       "        -3.25172068e-02, -8.51956423e-03,  1.39628846e-02,\n",
       "        -3.98294134e-03,  1.92013690e-03,  3.31491484e-03,\n",
       "        -1.04515181e-05,  2.54590363e-05,  9.02056208e-17,\n",
       "        -1.38777878e-17,  9.11966130e-17]])"
      ]
     },
     "execution_count": 44,
     "metadata": {},
     "output_type": "execute_result"
    }
   ],
   "source": [
    "pca_calories_burned.transform(X_calories_burned_user_normalized_0_to_1)"
   ]
  },
  {
   "cell_type": "code",
   "execution_count": 45,
   "id": "b0470927-97f8-4e10-98fd-32b86c59bcf6",
   "metadata": {},
   "outputs": [
    {
     "data": {
      "text/plain": [
       "array([[-1.52030607e-01, -1.68276503e-01,  1.02209283e-01,\n",
       "        -4.10358642e-01, -2.87980344e-01, -1.28397830e-01,\n",
       "         8.44308941e-02,  6.45371682e-02,  3.63199919e-02,\n",
       "        -2.35022488e-02, -1.88194413e-02,  2.80127889e-03,\n",
       "        -3.94065320e-03,  7.05999344e-04,  4.42140301e-17,\n",
       "         1.92428365e-18,  1.16805608e-16],\n",
       "       [-2.12879234e-01, -4.05101215e-01,  3.03277227e-01,\n",
       "        -6.17044375e-02, -2.40537854e-01,  3.19693194e-01,\n",
       "        -1.10990540e-01, -1.97974496e-02, -5.81474018e-02,\n",
       "        -3.81650025e-02,  1.74016247e-02,  7.31646305e-03,\n",
       "        -6.70022372e-03, -5.21638584e-04,  2.33973484e-17,\n",
       "        -5.01461025e-18,  9.25275237e-18],\n",
       "       [ 7.59825664e-01,  4.59607739e-01,  2.79993595e-02,\n",
       "        -1.35474383e-01, -1.06748308e-01, -7.95431394e-02,\n",
       "         3.94117406e-02, -4.20983977e-02, -9.78575976e-02,\n",
       "         4.78081127e-03,  1.74447977e-02,  1.36152669e-02,\n",
       "         7.00882504e-04, -4.75097218e-04, -6.68082723e-17,\n",
       "         4.35576471e-17, -4.62503543e-18],\n",
       "       [-8.99019035e-02, -3.65305134e-01,  1.69297290e-03,\n",
       "         4.28537574e-01, -8.19975524e-02, -8.28871938e-02,\n",
       "         5.86817314e-03,  4.58340241e-02, -4.35477520e-02,\n",
       "        -4.35730887e-02,  4.65840146e-02, -1.05473076e-02,\n",
       "         7.33862849e-03,  1.68863331e-03,  2.58066671e-18,\n",
       "         8.86317756e-18,  6.30291801e-17],\n",
       "       [-2.01030827e-01, -2.86114072e-01,  2.10511857e-01,\n",
       "        -3.20548659e-01, -2.87046290e-02,  3.98843533e-01,\n",
       "        -1.32225626e-01,  1.86633548e-03, -2.61352763e-02,\n",
       "         5.59653612e-03,  6.99189725e-03,  1.61189958e-02,\n",
       "        -3.29215203e-03,  3.54139362e-05,  2.33973484e-17,\n",
       "        -1.88923981e-17,  5.79134995e-19],\n",
       "       [-3.38763725e-01, -6.38694626e-01,  2.37001696e-01,\n",
       "         2.62516826e-01,  4.63870623e-01, -1.96182956e-01,\n",
       "         5.05865453e-02, -1.11355755e-01,  4.23164265e-04,\n",
       "        -1.60395619e-02,  9.78706635e-03,  1.94962227e-02,\n",
       "        -4.44520216e-03, -4.08302658e-04,  2.33973484e-17,\n",
       "        -3.27701859e-17, -1.12177891e-16],\n",
       "       [ 5.76855526e-01,  4.72044419e-01, -2.74234000e-01,\n",
       "        -2.11850457e-01, -1.33442924e-01, -1.05455958e-01,\n",
       "         4.53192401e-02,  8.88291381e-04, -2.27047120e-02,\n",
       "        -9.27066915e-03,  1.89391307e-03,  7.90724733e-03,\n",
       "        -2.92968307e-03, -4.06596380e-04, -3.21138028e-17,\n",
       "         3.66187532e-17,  2.83347106e-17],\n",
       "       [-1.93363571e-01, -1.27188360e-01, -4.31347185e-01,\n",
       "         2.73386498e-02, -1.29985765e-01,  9.91032994e-03,\n",
       "        -2.20042663e-02,  4.37098305e-03,  6.45161282e-02,\n",
       "        -1.63829347e-02, -1.49684870e-02, -5.86436850e-03,\n",
       "        -6.35255894e-03, -3.34646057e-04,  2.33973484e-17,\n",
       "        -5.01461025e-18,  7.51802890e-18],\n",
       "       [ 5.30429827e-02, -1.95152029e-01,  2.71973265e-01,\n",
       "        -1.15185806e-01, -4.11758692e-03, -1.40352515e-02,\n",
       "         1.69440078e-02, -5.30146623e-02, -3.90606963e-02,\n",
       "         1.83163074e-02, -1.20438907e-03, -1.55058912e-02,\n",
       "        -3.68562302e-03, -2.54025576e-04, -1.12971211e-17,\n",
       "         1.92428365e-18, -3.75847815e-17],\n",
       "       [ 1.05603357e-01, -1.72896191e-01,  4.05087583e-01,\n",
       "        -2.07826256e-01, -1.12858982e-01, -2.69610179e-02,\n",
       "         3.41594060e-02, -6.62390756e-02, -4.87707490e-02,\n",
       "         3.56047710e-02, -1.25105336e-03, -6.32048321e-03,\n",
       "         1.99660906e-02, -3.51484700e-04, -1.12971211e-17,\n",
       "        -1.88923981e-17, -3.23806110e-17],\n",
       "       [ 6.79364791e-01,  4.83852587e-01, -5.63076669e-01,\n",
       "         2.91766533e-01,  2.40808676e-01,  6.24868039e-02,\n",
       "        -6.80258278e-02, -5.49503804e-03, -7.44176471e-02,\n",
       "         1.65758828e-02,  2.45863506e-04, -1.02655395e-02,\n",
       "        -3.17665076e-03,  4.87961372e-04, -6.68082723e-17,\n",
       "         4.35576471e-17, -6.36056336e-17],\n",
       "       [-1.86072415e-01, -1.94954233e-01, -1.20200298e-01,\n",
       "        -1.56220932e-01, -8.94828597e-02, -5.13490647e-02,\n",
       "         2.10369709e-02, -3.34818464e-02,  6.99868941e-02,\n",
       "        -6.20477436e-04, -8.45855498e-03, -2.65478054e-02,\n",
       "        -2.34086058e-03, -4.50533458e-04,  2.33973484e-17,\n",
       "        -1.19535042e-17, -1.15639293e-17],\n",
       "       [-2.89010884e-02, -2.63544290e-01,  3.04584671e-01,\n",
       "        -2.15760790e-01,  3.10616911e-01, -5.53093819e-02,\n",
       "         4.34354036e-02,  1.12103071e-01, -6.02940179e-02,\n",
       "         5.60506353e-03, -2.04889181e-02, -8.37155843e-03,\n",
       "        -4.64746246e-03,  6.81386626e-06,  3.72751362e-17,\n",
       "        -5.01461025e-18,  1.61916463e-17],\n",
       "       [-4.49865781e-02,  1.19646942e-03, -3.50698850e-01,\n",
       "        -2.38951772e-01,  4.47475074e-01,  1.62591438e-01,\n",
       "        -7.20488557e-02,  4.30192014e-02,  1.26101681e-02,\n",
       "         1.32169690e-02, -7.77496083e-03, -2.93522058e-02,\n",
       "         2.09450049e-02, -4.86084038e-04,  4.42140301e-17,\n",
       "        -3.97090798e-17, -7.05445275e-17],\n",
       "       [-4.88484829e-02, -7.48094805e-02, -1.18661736e-01,\n",
       "        -1.56028692e-01, -3.15614520e-01, -1.09662997e-02,\n",
       "         1.23201281e-02,  1.20699775e-02,  2.41122886e-02,\n",
       "        -2.89868558e-02,  7.44828179e-03,  5.21927335e-03,\n",
       "         9.06239778e-03, -4.88316093e-04,  2.33973484e-17,\n",
       "        -5.01461025e-18,  5.43555628e-17],\n",
       "       [ 4.05940642e-01,  6.11175479e-01, -7.23757565e-01,\n",
       "        -5.50515973e-01,  3.17646438e-01,  7.87681874e-03,\n",
       "        -6.98305293e-03, -2.96107908e-02,  7.01022061e-02,\n",
       "        -3.00276168e-02,  1.03104398e-02,  3.60480504e-02,\n",
       "         5.20547265e-04,  2.01911693e-04,  1.64584545e-17,\n",
       "         1.92428365e-18, -4.62503543e-18],\n",
       "       [-1.04769652e-01, -2.08295983e-01, -2.30833129e-01,\n",
       "         1.82797945e-01,  9.38828108e-02,  3.63985881e-02,\n",
       "        -4.27839642e-02, -6.91382600e-02,  1.37336322e-02,\n",
       "         4.46233603e-03,  1.07178706e-02,  2.94178679e-03,\n",
       "         8.50694411e-03,  2.00130697e-03, -1.12971211e-17,\n",
       "        -1.19535042e-17, -2.37069937e-17],\n",
       "       [ 6.92157598e-03, -1.87857879e-01,  3.20008603e-01,\n",
       "        -2.48926682e-01, -2.84532654e-01, -7.72282805e-02,\n",
       "         5.46072742e-02, -9.39797353e-02, -1.61082190e-04,\n",
       "         1.50726949e-02, -5.77263821e-03, -1.02662255e-02,\n",
       "        -7.05899264e-03,  5.90912171e-04, -1.82360150e-17,\n",
       "         1.92428365e-18,  1.27221993e-17],\n",
       "       [-2.53619849e-01, -2.69582837e-01, -3.79995332e-01,\n",
       "         2.25858260e-01,  1.96558302e-02, -1.98458654e-02,\n",
       "        -2.76377995e-02, -6.33678501e-02,  7.08208331e-02,\n",
       "         1.97821618e-03, -7.41541073e-04, -2.44923487e-02,\n",
       "        -3.38521997e-03, -8.08562199e-04,  9.51956061e-18,\n",
       "        -1.88923981e-17, -7.05445275e-17],\n",
       "       [-1.18365618e-01, -3.20817087e-01, -1.56799778e-01,\n",
       "         4.42435778e-01, -1.66823941e-01, -7.94882070e-02,\n",
       "         8.01476643e-03,  1.35402144e-01, -3.49156440e-02,\n",
       "        -1.43493293e-03, -3.66566769e-02,  2.48909793e-02,\n",
       "         7.50264458e-03, -4.65350234e-04,  1.64584545e-17,\n",
       "         1.92428365e-18,  5.08861158e-17],\n",
       "       [-1.19940529e+00,  1.37183001e+00,  4.83507100e-01,\n",
       "         4.85031125e-02, -3.95407867e-03, -1.85798331e-01,\n",
       "        -3.85598502e-01,  4.63059563e-03, -1.35330395e-03,\n",
       "         2.40730991e-04, -4.52451246e-04,  8.80292207e-05,\n",
       "        -1.44516923e-05, -6.20381708e-09, -2.84409678e-17,\n",
       "         1.72599379e-16,  4.62878955e-17],\n",
       "       [-1.02966217e+00,  1.14225914e+00,  1.48559625e-01,\n",
       "         3.29590534e-01,  5.48246297e-02,  2.13657730e-01,\n",
       "         4.56313208e-01, -5.27911256e-03,  4.00459507e-05,\n",
       "        -1.72897074e-04,  5.43822423e-04, -1.28988493e-04,\n",
       "         1.18012244e-05,  6.42975303e-09, -2.84409678e-17,\n",
       "         6.15770768e-17,  1.85323198e-17],\n",
       "       [ 6.57870888e-01,  4.21208433e-01, -2.04759134e-01,\n",
       "         5.96138820e-02, -2.09825652e-01, -1.04421935e-01,\n",
       "         3.34732410e-02,  1.02445501e-02, -7.09255414e-02,\n",
       "         2.17151659e-03,  4.24828158e-03, -2.23610935e-02,\n",
       "        -6.56336176e-03, -3.02552145e-04, -5.98693784e-17,\n",
       "         5.74354349e-17,  1.61916463e-17],\n",
       "       [-2.56027576e-02, -4.85637667e-02, -2.47648975e-01,\n",
       "        -4.92056685e-02, -1.51073286e-01,  5.88337052e-02,\n",
       "        -2.73600253e-02,  1.58816368e-02,  2.18989497e-02,\n",
       "         1.30613049e-02, -3.68901282e-02, -2.27936408e-02,\n",
       "        -6.56510476e-03,  1.18672971e-03,  2.58066671e-18,\n",
       "         8.86317756e-18,  2.65999871e-17],\n",
       "       [-6.68643925e-02, -1.56756175e-01,  2.64183855e-01,\n",
       "        -4.77379313e-01, -1.45424142e-01, -8.97583554e-02,\n",
       "         7.32292398e-02,  6.22546420e-03,  2.77155673e-02,\n",
       "        -6.18853052e-03, -5.66498127e-03,  1.14770835e-02,\n",
       "         1.30939811e-02,  2.08004036e-05,  4.42140301e-17,\n",
       "        -2.58312920e-17,  5.60902862e-17],\n",
       "       [-7.57348927e-02, -2.63887199e-01, -3.92711482e-01,\n",
       "         7.05208510e-01, -2.63906711e-01,  2.25603951e-02,\n",
       "        -6.43614374e-02, -5.76400371e-02,  2.98101262e-03,\n",
       "         2.90697035e-02, -3.45347206e-02,  3.26446947e-02,\n",
       "         4.34953239e-03, -3.77419626e-04, -3.90526967e-17,\n",
       "        -5.01461025e-18, -5.66667397e-17],\n",
       "       [-2.16158738e-01, -4.68850770e-01,  2.95372511e-01,\n",
       "        -6.23612881e-02,  5.41777269e-01, -1.29088292e-01,\n",
       "         5.26222825e-02,  2.86905025e-02, -1.37429472e-02,\n",
       "         6.67175004e-03, -1.62538521e-03,  8.44684512e-03,\n",
       "        -4.36881308e-03, -8.99986298e-05,  3.72751362e-17,\n",
       "        -2.58312920e-17, -4.62583989e-17],\n",
       "       [ 4.95405613e-02, -1.10382050e-01,  4.74181313e-02,\n",
       "        -1.39813853e-01,  2.26378390e-01,  7.09917769e-02,\n",
       "        -2.28573398e-02,  1.22107957e-02, -2.19363245e-02,\n",
       "         1.43709122e-02, -3.19629397e-02,  1.23330787e-02,\n",
       "        -1.33721587e-02,  5.33848671e-04,  9.51956061e-18,\n",
       "         1.92428365e-18, -2.02375467e-17],\n",
       "       [-1.19303648e-01, -2.56811458e-01, -2.02090379e-01,\n",
       "         2.57533076e-01,  7.96682395e-02, -6.91969210e-03,\n",
       "        -2.45478205e-02,  3.56384704e-02, -1.14763064e-02,\n",
       "        -3.77500442e-02,  3.03607624e-02, -1.94637318e-02,\n",
       "        -3.89241954e-03, -1.15376389e-03,  1.64584545e-17,\n",
       "         1.92428365e-18, -2.02375467e-17],\n",
       "       [-7.96054711e-02, -1.71900959e-01, -8.55197460e-02,\n",
       "        -6.82132406e-03, -1.44056046e-01, -2.12124246e-02,\n",
       "         8.50789204e-03,  9.64220253e-02,  8.10199262e-02,\n",
       "         7.99823602e-02,  7.21939731e-02,  1.30754606e-02,\n",
       "        -6.79385708e-03, -9.40936286e-05, -3.21138028e-17,\n",
       "         1.92428365e-18,  6.99680740e-17],\n",
       "       [ 1.49090492e+00,  3.92568024e-01,  1.05894652e+00,\n",
       "         5.03234248e-01,  1.04462944e-01,  1.01005164e-01,\n",
       "        -3.28553555e-02,  2.04627731e-02,  1.29166191e-01,\n",
       "        -1.46630060e-02, -8.90534182e-03, -2.13956804e-03,\n",
       "         1.52699410e-03,  8.13343938e-06,  1.21430643e-17,\n",
       "         1.38777878e-17,  4.04858195e-18]])"
      ]
     },
     "execution_count": 45,
     "metadata": {},
     "output_type": "execute_result"
    }
   ],
   "source": [
    "pca_total_steps.transform(X_total_steps_user_normalized_0_to_1)"
   ]
  },
  {
   "cell_type": "markdown",
   "id": "f02cd42f-811e-4942-84c4-a3a55916edef",
   "metadata": {},
   "source": [
    "#### Review the PCA Component Shapes and Confirm they are the same sizes\n",
    "- if not the same size, go back and review the dataset for PCA and make sure both the features and targets have the same amount of records in them."
   ]
  },
  {
   "cell_type": "code",
   "execution_count": 46,
   "id": "471d7065-4a6e-4f66-9cf6-30aea52a7e2a",
   "metadata": {},
   "outputs": [
    {
     "data": {
      "text/plain": [
       "(17, 17)"
      ]
     },
     "execution_count": 46,
     "metadata": {},
     "output_type": "execute_result"
    }
   ],
   "source": [
    "pca_calories_burned.components_.shape"
   ]
  },
  {
   "cell_type": "code",
   "execution_count": 47,
   "id": "bf2a9de8-c061-4065-a73b-24c9f4065b61",
   "metadata": {},
   "outputs": [
    {
     "data": {
      "text/plain": [
       "(17, 17)"
      ]
     },
     "execution_count": 47,
     "metadata": {},
     "output_type": "execute_result"
    }
   ],
   "source": [
    "pca_total_steps.components_.shape"
   ]
  },
  {
   "cell_type": "markdown",
   "id": "4f13ed24-592d-4e7e-b89b-7db6bb72ba4b",
   "metadata": {},
   "source": [
    "#### Plot the PCA Components¶\n",
    "- Scatter Plot -To show each component, the density of cluster and how far apart they from the other components\n",
    "- Scree Plot -Shows how many components per variance level"
   ]
  },
  {
   "cell_type": "code",
   "execution_count": 48,
   "id": "90537aaf-52df-4dcf-9297-17fc689edf7f",
   "metadata": {},
   "outputs": [],
   "source": [
    "# Plot the first 2 components so it can be easily visualized\n",
    "PC1_calories_burned = pca_calories_burned.components_[:,0]\n",
    "PC2_calories_burned = pca_calories_burned.components_[:,1]\n",
    "\n",
    "PC1_total_steps = pca_total_steps.components_[:,0]\n",
    "PC2_total_steps = pca_total_steps.components_[:,1]"
   ]
  },
  {
   "cell_type": "code",
   "execution_count": 49,
   "id": "6842c6bf-db26-48f0-bdbb-baa301ffd6f0",
   "metadata": {},
   "outputs": [
    {
     "data": {
      "text/html": [
       "<div>\n",
       "<style scoped>\n",
       "    .dataframe tbody tr th:only-of-type {\n",
       "        vertical-align: middle;\n",
       "    }\n",
       "\n",
       "    .dataframe tbody tr th {\n",
       "        vertical-align: top;\n",
       "    }\n",
       "\n",
       "    .dataframe thead th {\n",
       "        text-align: right;\n",
       "    }\n",
       "</style>\n",
       "<table border=\"1\" class=\"dataframe\">\n",
       "  <thead>\n",
       "    <tr style=\"text-align: right;\">\n",
       "      <th></th>\n",
       "      <th>PC1</th>\n",
       "      <th>PC2</th>\n",
       "      <th>Calories</th>\n",
       "    </tr>\n",
       "  </thead>\n",
       "  <tbody>\n",
       "    <tr>\n",
       "      <th>0</th>\n",
       "      <td>-0.192865</td>\n",
       "      <td>-0.184296</td>\n",
       "      <td>1985.0</td>\n",
       "    </tr>\n",
       "    <tr>\n",
       "      <th>1</th>\n",
       "      <td>0.073646</td>\n",
       "      <td>0.077983</td>\n",
       "      <td>1797.0</td>\n",
       "    </tr>\n",
       "    <tr>\n",
       "      <th>2</th>\n",
       "      <td>-0.327802</td>\n",
       "      <td>-0.311924</td>\n",
       "      <td>1776.0</td>\n",
       "    </tr>\n",
       "    <tr>\n",
       "      <th>3</th>\n",
       "      <td>-0.196021</td>\n",
       "      <td>-0.199224</td>\n",
       "      <td>1745.0</td>\n",
       "    </tr>\n",
       "    <tr>\n",
       "      <th>4</th>\n",
       "      <td>-0.032624</td>\n",
       "      <td>-0.017764</td>\n",
       "      <td>1863.0</td>\n",
       "    </tr>\n",
       "  </tbody>\n",
       "</table>\n",
       "</div>"
      ],
      "text/plain": [
       "        PC1       PC2  Calories\n",
       "0 -0.192865 -0.184296    1985.0\n",
       "1  0.073646  0.077983    1797.0\n",
       "2 -0.327802 -0.311924    1776.0\n",
       "3 -0.196021 -0.199224    1745.0\n",
       "4 -0.032624 -0.017764    1863.0"
      ]
     },
     "execution_count": 49,
     "metadata": {},
     "output_type": "execute_result"
    }
   ],
   "source": [
    "# Apply it with the target so we can know classifications of the different types of clusters\n",
    "for points in y_calories_burned_user.Calories:\n",
    "    zipped = list(zip(PC1_calories_burned, \n",
    "                  PC2_calories_burned, \n",
    "                  y_calories_burned_user.Calories))\n",
    " \n",
    "    pca_calories_burned_df = pd.DataFrame(zipped, columns=['PC1', 'PC2', 'Calories'])\n",
    " \n",
    "pca_calories_burned_df.head()"
   ]
  },
  {
   "cell_type": "code",
   "execution_count": 50,
   "id": "b9344e80-09ae-4922-a29c-bbc940ab5d7d",
   "metadata": {},
   "outputs": [
    {
     "data": {
      "text/html": [
       "<div>\n",
       "<style scoped>\n",
       "    .dataframe tbody tr th:only-of-type {\n",
       "        vertical-align: middle;\n",
       "    }\n",
       "\n",
       "    .dataframe tbody tr th {\n",
       "        vertical-align: top;\n",
       "    }\n",
       "\n",
       "    .dataframe thead th {\n",
       "        text-align: right;\n",
       "    }\n",
       "</style>\n",
       "<table border=\"1\" class=\"dataframe\">\n",
       "  <thead>\n",
       "    <tr style=\"text-align: right;\">\n",
       "      <th></th>\n",
       "      <th>PC1</th>\n",
       "      <th>PC2</th>\n",
       "      <th>TotalSteps</th>\n",
       "    </tr>\n",
       "  </thead>\n",
       "  <tbody>\n",
       "    <tr>\n",
       "      <th>0</th>\n",
       "      <td>-0.172064</td>\n",
       "      <td>-0.075512</td>\n",
       "      <td>13162.0</td>\n",
       "    </tr>\n",
       "    <tr>\n",
       "      <th>1</th>\n",
       "      <td>0.082352</td>\n",
       "      <td>0.110187</td>\n",
       "      <td>10735.0</td>\n",
       "    </tr>\n",
       "    <tr>\n",
       "      <th>2</th>\n",
       "      <td>-0.320767</td>\n",
       "      <td>-0.379637</td>\n",
       "      <td>10460.0</td>\n",
       "    </tr>\n",
       "    <tr>\n",
       "      <th>3</th>\n",
       "      <td>-0.210038</td>\n",
       "      <td>-0.098654</td>\n",
       "      <td>9762.0</td>\n",
       "    </tr>\n",
       "    <tr>\n",
       "      <th>4</th>\n",
       "      <td>-0.005713</td>\n",
       "      <td>0.481047</td>\n",
       "      <td>12669.0</td>\n",
       "    </tr>\n",
       "  </tbody>\n",
       "</table>\n",
       "</div>"
      ],
      "text/plain": [
       "        PC1       PC2  TotalSteps\n",
       "0 -0.172064 -0.075512     13162.0\n",
       "1  0.082352  0.110187     10735.0\n",
       "2 -0.320767 -0.379637     10460.0\n",
       "3 -0.210038 -0.098654      9762.0\n",
       "4 -0.005713  0.481047     12669.0"
      ]
     },
     "execution_count": 50,
     "metadata": {},
     "output_type": "execute_result"
    }
   ],
   "source": [
    "# Apply it with the target so we can know classifications of the different types of clusters\n",
    "for points in y_total_steps_user.TotalSteps:\n",
    "    zipped = list(zip(PC1_total_steps, \n",
    "                  PC2_total_steps, \n",
    "                  y_total_steps_user.TotalSteps))\n",
    " \n",
    "    pca_total_steps_df = pd.DataFrame(zipped, columns=['PC1', 'PC2', 'TotalSteps'])\n",
    " \n",
    "pca_total_steps_df.head()"
   ]
  },
  {
   "cell_type": "markdown",
   "id": "4bdedd18-62c1-49e2-b52a-3f6264c2134b",
   "metadata": {},
   "source": [
    "#### Scatter Plot"
   ]
  },
  {
   "cell_type": "code",
   "execution_count": 51,
   "id": "5b8c6b32-319f-41e6-98e9-1f9d5691b70f",
   "metadata": {},
   "outputs": [
    {
     "data": {
      "image/png": "[encoded data removed]",
      "text/plain": [
       "<Figure size 640x480 with 1 Axes>"
      ]
     },
     "metadata": {},
     "output_type": "display_data"
    }
   ],
   "source": [
    "plot_calories_burned = sns.scatterplot(data=pca_calories_burned_df, x='PC1', y='PC2', hue='Calories')"
   ]
  },
  {
   "cell_type": "code",
   "execution_count": 52,
   "id": "32620a4e-d6dd-4b2b-8649-2bab29d824e8",
   "metadata": {},
   "outputs": [
    {
     "data": {
      "image/png": "[encoded data removed]",
      "text/plain": [
       "<Figure size 640x480 with 1 Axes>"
      ]
     },
     "metadata": {},
     "output_type": "display_data"
    }
   ],
   "source": [
    "plot_total_steps = sns.scatterplot(data=pca_total_steps_df, x='PC1', y='PC2', hue='TotalSteps')"
   ]
  },
  {
   "cell_type": "markdown",
   "id": "ab68663f-b91a-4cb7-813f-6589842c9a47",
   "metadata": {},
   "source": [
    "#### Scree Plot"
   ]
  },
  {
   "cell_type": "code",
   "execution_count": 53,
   "id": "f954a7a0-3cee-4b2b-9171-0717585ceee8",
   "metadata": {},
   "outputs": [
    {
     "data": {
      "text/plain": [
       "Text(0, 0.5, 'Explained Variance')"
      ]
     },
     "execution_count": 53,
     "metadata": {},
     "output_type": "execute_result"
    },
    {
     "data": {
      "image/png": "[encoded data removed]",
      "text/plain": [
       "<Figure size 1000x1000 with 1 Axes>"
      ]
     },
     "metadata": {},
     "output_type": "display_data"
    }
   ],
   "source": [
    "# visualize the Explained Individual Components\n",
    "plt.figure(figsize = (10,10))\n",
    "plt.plot(range(1,18), pca_calories_burned.explained_variance_ratio_, marker = 'o', linestyle = '--')\n",
    "plt.title(\"Explained Variances by Components\")\n",
    "plt.xlabel(\"Number of Components\")\n",
    "plt.ylabel(\"Explained Variance\")"
   ]
  },
  {
   "cell_type": "code",
   "execution_count": 54,
   "id": "edbd53d9-e9ea-4330-bdf9-3c45f43c8b00",
   "metadata": {},
   "outputs": [
    {
     "data": {
      "text/plain": [
       "Text(0, 0.5, 'Explained Variance')"
      ]
     },
     "execution_count": 54,
     "metadata": {},
     "output_type": "execute_result"
    },
    {
     "data": {
      "image/png": "[encoded data removed]",
      "text/plain": [
       "<Figure size 1000x1000 with 1 Axes>"
      ]
     },
     "metadata": {},
     "output_type": "display_data"
    }
   ],
   "source": [
    "# visualize the Explained Individual Components\n",
    "plt.figure(figsize = (10,10))\n",
    "plt.plot(range(1,18), pca_total_steps.explained_variance_ratio_, marker = 'o', linestyle = '--')\n",
    "plt.title(\"Explained Variances by Components\")\n",
    "plt.xlabel(\"Number of Components\")\n",
    "plt.ylabel(\"Explained Variance\")"
   ]
  },
  {
   "cell_type": "code",
   "execution_count": 55,
   "id": "2244e1c3-877a-4b0a-977e-ef22c815c9e2",
   "metadata": {},
   "outputs": [],
   "source": [
    "#The percentage of variance explained by each principal component\n",
    "explained_variance_calories_burned = pca_calories_burned.explained_variance_ratio_\n",
    "\n",
    "explained_variance_total_steps = pca_total_steps.explained_variance_ratio_"
   ]
  },
  {
   "cell_type": "markdown",
   "id": "2bcd272a-6341-4cff-b3ea-d857fe5b55d0",
   "metadata": {},
   "source": [
    "#### Find the least number of components that can explain more than 70% variance"
   ]
  },
  {
   "cell_type": "code",
   "execution_count": 56,
   "id": "043f0cda-e632-4621-9a39-3ea510f70f4b",
   "metadata": {},
   "outputs": [
    {
     "name": "stdout",
     "output_type": "stream",
     "text": [
      "Number of PCs that explain at least 70% variance for predicting calories per user:  3\n"
     ]
    }
   ],
   "source": [
    "# find the least number of components that can explain more than 70% variance\n",
    "sum = 0\n",
    "for ix, i in enumerate(explained_variance_calories_burned):\n",
    "  sum = sum + i\n",
    "  if(sum > 0.7):\n",
    "    print(\"Number of PCs that explain at least 70% variance for predicting calories per user: \", ix+1)\n",
    "    break"
   ]
  },
  {
   "cell_type": "code",
   "execution_count": 57,
   "id": "40f69039-e8b1-418f-b07f-7bd25a003e96",
   "metadata": {},
   "outputs": [
    {
     "name": "stdout",
     "output_type": "stream",
     "text": [
      "Number of PCs that explain at least 70% variance for predicting total steps per user:  3\n"
     ]
    }
   ],
   "source": [
    "# find the least number of components that can explain more than 70% variance\n",
    "sum = 0\n",
    "for ix, i in enumerate(explained_variance_total_steps):\n",
    "  sum = sum + i\n",
    "  if(sum > 0.7):\n",
    "    print(\"Number of PCs that explain at least 70% variance for predicting total steps per user: \", ix+1)\n",
    "    break"
   ]
  },
  {
   "cell_type": "markdown",
   "id": "25bfa32a-c59e-4b94-bd14-06a9e66d3508",
   "metadata": {},
   "source": [
    "#### Get the index of the most important feature on EACH component using list comprehension"
   ]
  },
  {
   "cell_type": "code",
   "execution_count": 58,
   "id": "52a09d8f-314f-4760-84ec-b6400401be30",
   "metadata": {},
   "outputs": [],
   "source": [
    "n_pcs_calories_burned= pca_calories_burned.components_.shape[0]\n",
    "\n",
    "most_important_calories_burned = [np.abs(pca_calories_burned.components_[i]).argmax() for i in range(n_pcs_calories_burned)]"
   ]
  },
  {
   "cell_type": "code",
   "execution_count": 59,
   "id": "89b2a7e0-23e8-49a0-95b1-fd9c0fde0d3f",
   "metadata": {},
   "outputs": [],
   "source": [
    "initial_feature_names_calories_burned = X_calories_burned.columns\n",
    "# get the names\n",
    "most_important_names_calories_burned = [initial_feature_names_calories_burned[most_important_calories_burned[i]] for i in range(n_pcs_calories_burned)]"
   ]
  },
  {
   "cell_type": "code",
   "execution_count": 60,
   "id": "f9488fc4-a1fa-49e1-9930-249e72dfcf43",
   "metadata": {},
   "outputs": [],
   "source": [
    "dict_intial_feature_names_calories_burned = {'PC{}'.format(i): most_important_names_calories_burned[i] for i in range(n_pcs_calories_burned)}"
   ]
  },
  {
   "cell_type": "code",
   "execution_count": 61,
   "id": "ae8ae95e-c9c5-4c31-b653-7361ebfbd673",
   "metadata": {},
   "outputs": [],
   "source": [
    "n_pcs_total_steps= pca_total_steps.components_.shape[0]\n",
    "\n",
    "most_important_total_steps = [np.abs(pca_total_steps.components_[i]).argmax() for i in range(n_pcs_total_steps)]"
   ]
  },
  {
   "cell_type": "code",
   "execution_count": 62,
   "id": "a5f6f115-ecd0-4a6e-9473-19e43a20be34",
   "metadata": {},
   "outputs": [],
   "source": [
    "initial_feature_names_total_steps = X_total_steps.columns\n",
    "# get the names\n",
    "most_important_names_total_steps = [initial_feature_names_total_steps[most_important_total_steps[i]] for i in range(n_pcs_total_steps)]"
   ]
  },
  {
   "cell_type": "code",
   "execution_count": 63,
   "id": "1c9bb8ee-54ac-404b-8f57-530adffa1d44",
   "metadata": {},
   "outputs": [],
   "source": [
    "dict_intial_feature_names_total_steps = {'PC{}'.format(i): most_important_names_total_steps[i] for i in range(n_pcs_total_steps)}"
   ]
  },
  {
   "cell_type": "markdown",
   "id": "54009493-a4a2-48d7-91df-19ca2387bbc3",
   "metadata": {},
   "source": [
    "#### Shows the top 5 most influential columns in the dataset per component these columns are what I need to look at adding for my feature data set. Principal Component Analysis uses Singular Value Decomposition of the data to project it to a lower dimensional space"
   ]
  },
  {
   "cell_type": "code",
   "execution_count": 64,
   "id": "1757fa15-1ff9-44a6-a6f3-4f19d923b89d",
   "metadata": {},
   "outputs": [
    {
     "data": {
      "text/html": [
       "<div>\n",
       "<style scoped>\n",
       "    .dataframe tbody tr th:only-of-type {\n",
       "        vertical-align: middle;\n",
       "    }\n",
       "\n",
       "    .dataframe tbody tr th {\n",
       "        vertical-align: top;\n",
       "    }\n",
       "\n",
       "    .dataframe thead th {\n",
       "        text-align: right;\n",
       "    }\n",
       "</style>\n",
       "<table border=\"1\" class=\"dataframe\">\n",
       "  <thead>\n",
       "    <tr style=\"text-align: right;\">\n",
       "      <th></th>\n",
       "      <th>0</th>\n",
       "      <th>1</th>\n",
       "    </tr>\n",
       "  </thead>\n",
       "  <tbody>\n",
       "    <tr>\n",
       "      <th>0</th>\n",
       "      <td>PC0</td>\n",
       "      <td>WeightKg</td>\n",
       "    </tr>\n",
       "    <tr>\n",
       "      <th>1</th>\n",
       "      <td>PC1</td>\n",
       "      <td>TotalTimeInBed</td>\n",
       "    </tr>\n",
       "    <tr>\n",
       "      <th>2</th>\n",
       "      <td>PC2</td>\n",
       "      <td>VeryActiveMinutes</td>\n",
       "    </tr>\n",
       "    <tr>\n",
       "      <th>3</th>\n",
       "      <td>PC3</td>\n",
       "      <td>FairlyActiveMinutes</td>\n",
       "    </tr>\n",
       "    <tr>\n",
       "      <th>4</th>\n",
       "      <td>PC4</td>\n",
       "      <td>VeryActiveDistance</td>\n",
       "    </tr>\n",
       "  </tbody>\n",
       "</table>\n",
       "</div>"
      ],
      "text/plain": [
       "     0                    1\n",
       "0  PC0             WeightKg\n",
       "1  PC1       TotalTimeInBed\n",
       "2  PC2    VeryActiveMinutes\n",
       "3  PC3  FairlyActiveMinutes\n",
       "4  PC4   VeryActiveDistance"
      ]
     },
     "execution_count": 64,
     "metadata": {},
     "output_type": "execute_result"
    }
   ],
   "source": [
    "pca_train_data_calories_burned = pd.DataFrame(dict_intial_feature_names_calories_burned.items())\n",
    "\n",
    "pca_train_data_calories_burned.head(5)"
   ]
  },
  {
   "cell_type": "code",
   "execution_count": 65,
   "id": "59283178-bbb2-4939-b0bb-0aa9a054fd38",
   "metadata": {},
   "outputs": [
    {
     "data": {
      "text/html": [
       "<div>\n",
       "<style scoped>\n",
       "    .dataframe tbody tr th:only-of-type {\n",
       "        vertical-align: middle;\n",
       "    }\n",
       "\n",
       "    .dataframe tbody tr th {\n",
       "        vertical-align: top;\n",
       "    }\n",
       "\n",
       "    .dataframe thead th {\n",
       "        text-align: right;\n",
       "    }\n",
       "</style>\n",
       "<table border=\"1\" class=\"dataframe\">\n",
       "  <thead>\n",
       "    <tr style=\"text-align: right;\">\n",
       "      <th></th>\n",
       "      <th>0</th>\n",
       "      <th>1</th>\n",
       "    </tr>\n",
       "  </thead>\n",
       "  <tbody>\n",
       "    <tr>\n",
       "      <th>0</th>\n",
       "      <td>PC0</td>\n",
       "      <td>SedentaryMinutes</td>\n",
       "    </tr>\n",
       "    <tr>\n",
       "      <th>1</th>\n",
       "      <td>PC1</td>\n",
       "      <td>WeightPounds</td>\n",
       "    </tr>\n",
       "    <tr>\n",
       "      <th>2</th>\n",
       "      <td>PC2</td>\n",
       "      <td>VeryActiveMinutes</td>\n",
       "    </tr>\n",
       "    <tr>\n",
       "      <th>3</th>\n",
       "      <td>PC3</td>\n",
       "      <td>FairlyActiveMinutes</td>\n",
       "    </tr>\n",
       "    <tr>\n",
       "      <th>4</th>\n",
       "      <td>PC4</td>\n",
       "      <td>VeryActiveDistance</td>\n",
       "    </tr>\n",
       "  </tbody>\n",
       "</table>\n",
       "</div>"
      ],
      "text/plain": [
       "     0                    1\n",
       "0  PC0     SedentaryMinutes\n",
       "1  PC1         WeightPounds\n",
       "2  PC2    VeryActiveMinutes\n",
       "3  PC3  FairlyActiveMinutes\n",
       "4  PC4   VeryActiveDistance"
      ]
     },
     "execution_count": 65,
     "metadata": {},
     "output_type": "execute_result"
    }
   ],
   "source": [
    "pca_train_data_total_steps = pd.DataFrame(dict_intial_feature_names_total_steps.items())\n",
    "\n",
    "pca_train_data_total_steps.head(5)"
   ]
  },
  {
   "cell_type": "code",
   "execution_count": 66,
   "id": "700d4fe1-d387-4805-8679-980e7c217aed",
   "metadata": {},
   "outputs": [
    {
     "data": {
      "text/plain": [
       "array(['WeightKg', 'TotalTimeInBed', 'VeryActiveMinutes',\n",
       "       'FairlyActiveMinutes', 'VeryActiveDistance', 'TotalSleepRecords',\n",
       "       'Fat', 'LightlyActiveMinutes', 'SedentaryMinutes',\n",
       "       'ModeratelyActiveDistance', 'TotalSteps', 'TotalDistance', 'BMI',\n",
       "       'SedentaryActiveDistance'], dtype=object)"
      ]
     },
     "execution_count": 66,
     "metadata": {},
     "output_type": "execute_result"
    }
   ],
   "source": [
    "pca_train_data_calories_burned[1].unique()"
   ]
  },
  {
   "cell_type": "code",
   "execution_count": 67,
   "id": "a663e469-91a8-4d89-a4f9-abc6544c0ce8",
   "metadata": {},
   "outputs": [
    {
     "data": {
      "text/plain": [
       "array(['SedentaryMinutes', 'WeightPounds', 'VeryActiveMinutes',\n",
       "       'FairlyActiveMinutes', 'VeryActiveDistance', 'TotalSleepRecords',\n",
       "       'Fat', 'LightlyActiveMinutes', 'Calories', 'TotalTimeInBed',\n",
       "       'TotalDistance', 'WeightKg', 'SedentaryActiveDistance'],\n",
       "      dtype=object)"
      ]
     },
     "execution_count": 67,
     "metadata": {},
     "output_type": "execute_result"
    }
   ],
   "source": [
    "pca_train_data_total_steps[1].unique()"
   ]
  },
  {
   "cell_type": "markdown",
   "id": "a7a2cb87-1c83-441a-ab5d-4d129ebd4043",
   "metadata": {},
   "source": [
    "#### Data Observations on Principal Component Analysis with TimeSeries Datasets\n",
    "- the three top columns for calories per user that covers 70% of variance are \"BMI\", \"TotalBedtime\", \"VeryActiveMinutes\"\n",
    "- the three top columns for total steps per user that covers 70% of variance are \"SedentaryMinute\", \"WeightKg\", \"VeryActiveMinutes\"\n",
    "- After doing further research, I learned that Principal Component Analysis is not a useful technique for timeseries datasets. The reason why is below.\n",
    "- Principal Component Analysis (PCA) assumes that the variables are linearly correlated and it ignores the temporal order of the data, which can be problematic for time series data where temporal dependencies exist. Therefore, PCA might not be the best choice for dimensionality reduction in time series data, especially if the temporal dependencies are important for your regression problem. Instead, you might want to consider techniques that take into account the temporal structure of the data, such as autoregressive models, recurrent neural networks (RNNs), or even some form of feature engineering that incorporates the temporal dependencies into the features.\n",
    "- I'll be using an autoregressive model on the timeseries dataset."
   ]
  },
  {
   "cell_type": "markdown",
   "id": "804c0b93-b4a8-40e6-a894-6ccd682f4ec8",
   "metadata": {},
   "source": [
    "### Data Engineering for model prepration\n",
    "- Split the datasets into Train, Validation, and Test\n",
    "    - Split is 70/30 where 70% in the training data and 30% in the Test data\n",
    "- Convert pandas DataFrames to PyTorch tensors\n",
    "- Create PyTorch DataLoader for training and validation datasets"
   ]
  },
  {
   "cell_type": "code",
   "execution_count": 68,
   "id": "3cb4e72e-8bc2-450d-8cce-cbbb17521223",
   "metadata": {},
   "outputs": [],
   "source": [
    "X_calories_burned_normalized_0_to_1_tensor = torch.tensor(X_calories_burned_normalized_0_to_1).float() #X_calories_burned_normalized_0_to_1.values\n",
    "y_calories_burned_tensor = torch.tensor(y_calories_burned_normalized_0_to_1).float()"
   ]
  },
  {
   "cell_type": "code",
   "execution_count": 69,
   "id": "e59537d7-f4a7-42bf-8cdb-bad776b0396f",
   "metadata": {},
   "outputs": [],
   "source": [
    "X_total_steps_normalized_0_to_1_tensor = torch.tensor(X_total_steps_normalized_0_to_1).float() #X_total_steps_normalized_0_to_1.values\n",
    "y_total_steps_tensor = torch.tensor(y_total_steps_normalized_0_to_1).float()"
   ]
  },
  {
   "cell_type": "code",
   "execution_count": 70,
   "id": "00644ff1-6913-4c6c-9237-e4c89a529095",
   "metadata": {},
   "outputs": [],
   "source": [
    "X_multivariate_per_Id_features_normalized_0_to_1_tensor = torch.tensor(X_multivariate_per_Id_features_normalized_0_to_1).float() #X_multivariate_per_Id_features_normalized_0_to_1.values\n",
    "y_multivariate_per_Id_target_tensor = torch.tensor(y_multivariate_per_Id_normalized_0_to_1).float()"
   ]
  },
  {
   "cell_type": "markdown",
   "id": "8584cc67-cb90-47f8-b337-28856116db81",
   "metadata": {},
   "source": [
    "#### Apply Sliding Window Technique to predict targets for the next 7 days\n",
    "- The best practice is to apply the train-test split operation before creating the TensorDataset. This is because the train-test split is a form of data preprocessing, and it’s generally best to complete all preprocessing steps before creating the TensorDataset and DataLoader.\n",
    "- The sliding window technique should be applied after the data has been converted to PyTorch tensors. The reason for this is that the sliding window technique will create sequences of data, and these sequences should be in the form of tensors to be compatible with the PyTorch framework."
   ]
  },
  {
   "cell_type": "code",
   "execution_count": 71,
   "id": "de8a5b83-925a-4802-abef-f63f88612f7c",
   "metadata": {},
   "outputs": [],
   "source": [
    "def create_sequences_and_split(input_data, output_data, tw, test_size=0.3):\n",
    "    train_seq = []\n",
    "    train_label = []\n",
    "    L = len(input_data)\n",
    "    for i in range(L-tw-7):  # Subtract 7 to ensure there is enough data to predict the next 7 days\n",
    "        train_seq.append(input_data[i:i+tw])\n",
    "        train_label.append(output_data[i+tw:i+tw+7])\n",
    "    \n",
    "    # Convert lists to tensors\n",
    "    train_seq_tensor = torch.stack(train_seq)\n",
    "    train_label_tensor = torch.stack(train_label)\n",
    "    \n",
    "    # Apply train-test split\n",
    "    X_train, X_val, y_train, y_val = train_test_split(train_seq_tensor, train_label_tensor, test_size=test_size)\n",
    "    \n",
    "    # Create TensorDatasets\n",
    "    train_data = TensorDataset(X_train, y_train)\n",
    "    val_data = TensorDataset(X_val, y_val)\n",
    "    \n",
    "    return train_data, val_data\n",
    "\n",
    "tw = 7 # Choose your time window"
   ]
  },
  {
   "cell_type": "code",
   "execution_count": 72,
   "id": "42a35b4f-06cd-471c-8bd1-4248acbff0b6",
   "metadata": {},
   "outputs": [],
   "source": [
    "# Apply the sliding window technique through function 'create_sequences_and_split' to the normalized data and create pytorch tensordatasets for train and test\n",
    "train_data_calories_burned, val_data_calories_burned = create_sequences_and_split(X_calories_burned_normalized_0_to_1_tensor,y_calories_burned_tensor, tw)"
   ]
  },
  {
   "cell_type": "code",
   "execution_count": 73,
   "id": "77f28816-03c0-49a3-9b7a-157b5fc25707",
   "metadata": {},
   "outputs": [],
   "source": [
    "# Apply the sliding window technique through function 'create_sequences_and_split' to the normalized data and create pytorch tensordatasets for train and test\n",
    "train_data_total_steps, val_data_total_steps = create_sequences_and_split(X_total_steps_normalized_0_to_1_tensor,y_total_steps_tensor, tw)"
   ]
  },
  {
   "cell_type": "code",
   "execution_count": 74,
   "id": "033bb0c4-09c0-4adf-82e2-006d62342eef",
   "metadata": {},
   "outputs": [],
   "source": [
    "# Apply the sliding window technique through function 'create_sequences_and_split' to the normalized data and create pytorch tensordatasets for train and test\n",
    "train_data_multivariate_per_Id, val_data_multivariate_per_Id = create_sequences_and_split(X_multivariate_per_Id_features_normalized_0_to_1_tensor,y_multivariate_per_Id_target_tensor, tw)"
   ]
  },
  {
   "cell_type": "markdown",
   "id": "536b1f58-178e-4bfe-8218-ce70ad5b8cf2",
   "metadata": {},
   "source": [
    "#### Convert Pandas Dataframes to Pytorch Tensors"
   ]
  },
  {
   "cell_type": "code",
   "execution_count": 75,
   "id": "08afa81f-593f-4fe9-abd4-5bd58e81e1d1",
   "metadata": {},
   "outputs": [],
   "source": [
    "batch_size_calories_burned = 32\n",
    "train_loader_calories_burned = DataLoader(train_data_calories_burned, batch_size=batch_size_calories_burned)\n",
    "val_loader_calories_burned = DataLoader(val_data_calories_burned, batch_size=batch_size_calories_burned)"
   ]
  },
  {
   "cell_type": "code",
   "execution_count": 76,
   "id": "8ecd8be3-08d5-4434-971c-e1d000b58d30",
   "metadata": {},
   "outputs": [],
   "source": [
    "batch_size_total_steps = 32\n",
    "train_loader_total_steps = DataLoader(train_data_total_steps, batch_size=batch_size_total_steps)\n",
    "val_loader_total_steps = DataLoader(val_data_total_steps, batch_size=batch_size_total_steps)"
   ]
  },
  {
   "cell_type": "code",
   "execution_count": 77,
   "id": "e1b8dee6-49c6-47b7-af30-d185a28c06f6",
   "metadata": {},
   "outputs": [],
   "source": [
    "batch_size_multivariate_per_Id = 32\n",
    "train_loader_multivariate_per_Id = DataLoader(train_data_multivariate_per_Id, batch_size=batch_size_multivariate_per_Id)\n",
    "val_loader_multivariate_per_Id = DataLoader(val_data_multivariate_per_Id, batch_size=batch_size_multivariate_per_Id)"
   ]
  },
  {
   "cell_type": "markdown",
   "id": "bf0c2054-a88c-4797-842d-007ff69d5644",
   "metadata": {},
   "source": [
    "### Build Time Series Models using Pytorch\n",
    "1. Build a Time Series Model to predict the amount of calories per ID (user)\n",
    "2. Build a Time Series Model to predict the amount of total steps taken per day per ID (user)\n",
    "3. Build a Time Series Model to predict how many 'Calories', 'TotalDistance', 'TotalMinutesAsleep', 'WeightPounds', 'BMI', 'VeryActiveDistance', 'ModeratelyActiveDistance', 'LightActiveDistance', 'SedentaryActiveDistance', 'VeryActiveMinutes','FairlyActiveMinutes','LightlyActiveMinutes','SedentaryMinutes' per day in the next 7 days for 'Id' ['1927972279'], to get to ten thousand steps per day"
   ]
  },
  {
   "cell_type": "markdown",
   "id": "f99cae17",
   "metadata": {},
   "source": [
    "##### RNN Model using Dense Activation"
   ]
  },
  {
   "cell_type": "code",
   "execution_count": 78,
   "id": "b0b6a297",
   "metadata": {},
   "outputs": [],
   "source": [
    "class RNN(nn.Module):\n",
    "    def __init__(self, input_size, hidden_size, num_layers, dropout_prob=0.5):\n",
    "        super(RNN, self).__init__()\n",
    "        self.hidden_size = hidden_size\n",
    "        self.num_layers = num_layers\n",
    "        self.rnn = nn.RNN(input_size, hidden_size, num_layers, batch_first=True, dropout=dropout_prob)\n",
    "        self.fc = nn.Linear(hidden_size, 7) # Adjust the output dimension to 7\n",
    "\n",
    "    def forward(self, x):\n",
    "        h0 = torch.zeros(self.num_layers, x.size(0), self.hidden_size).to(x.device)\n",
    "        out, _ = self.rnn(x, h0)\n",
    "        out = self.fc(out[:, -1, :]) # Take the last output of the sequence\n",
    "        return out"
   ]
  },
  {
   "cell_type": "markdown",
   "id": "c070e871-b961-444f-8d3c-9dccb791c81d",
   "metadata": {},
   "source": [
    "#### Time Series Autoregressive Model"
   ]
  },
  {
   "cell_type": "code",
   "execution_count": 79,
   "id": "906b059d",
   "metadata": {},
   "outputs": [],
   "source": [
    "class AutoRegressiveModel(torch.nn.Module):\n",
    "    def __init__(self, input_dim, hidden_dim, output_dim):\n",
    "        super(AutoRegressiveModel, self).__init__()\n",
    "        self.lstm1 = nn.LSTM(input_dim, hidden_dim)\n",
    "        self.lstm2 = nn.LSTM(hidden_dim, hidden_dim)  # Add another LSTM layer\n",
    "        self.linear = nn.Linear(hidden_dim, output_dim)\n",
    "        \n",
    "    def forward(self, x):\n",
    "        lstm_out, _ = self.lstm1(x)\n",
    "        lstm_out, _ = self.lstm2(lstm_out)  # Pass the output of the first LSTM layer to the second LSTM layer\n",
    "        predictions = self.linear(lstm_out)\n",
    "        return predictions"
   ]
  },
  {
   "cell_type": "markdown",
   "id": "d8674455-214d-4c6d-afb5-cf8cb49603b4",
   "metadata": {},
   "source": [
    "#### Set the input and output parameters for the model"
   ]
  },
  {
   "cell_type": "code",
   "execution_count": 80,
   "id": "bd30ea18-8f88-49bc-8a6a-b31e73bdedac",
   "metadata": {},
   "outputs": [],
   "source": [
    "input_dim_calories_burned = X_calories_burned_normalized_0_to_1_tensor.shape[1]  # Number of features in the dataset\n",
    "output_dim_calories_burned = y_calories_burned_tensor.shape[1] # Number of targets in the dataset\n",
    "\n",
    "input_dim_total_steps = X_total_steps_normalized_0_to_1_tensor.shape[1]  # Number of features in the dataset\n",
    "output_dim_total_steps = y_total_steps_tensor.shape[1] # Number of targets in the dataset\n",
    "\n",
    "input_dim_multivariate_per_Id = X_multivariate_per_Id_features_normalized_0_to_1_tensor.shape[1]  # Number of features in the dataset\n",
    "output_dim_multivariate_per_Id = y_multivariate_per_Id_targets.shape[1] # Number of targets in the dataset"
   ]
  },
  {
   "cell_type": "markdown",
   "id": "d3aaf4e2-db7e-4e89-848f-997b6c191f10",
   "metadata": {},
   "source": [
    "#### Initialize the models and define loss function and optimizer"
   ]
  },
  {
   "cell_type": "code",
   "execution_count": 81,
   "id": "488851a1-7199-45b2-aae9-78a62ab11584",
   "metadata": {},
   "outputs": [],
   "source": [
    "hidden_dim = 512  # Choose a suitable number for hidden dimensions\n",
    "criterion = torch.nn.MSELoss()  # Mean Squared Error loss function"
   ]
  },
  {
   "cell_type": "code",
   "execution_count": 82,
   "id": "1df5f9c1-a6b5-4401-a962-0b92bd37491e",
   "metadata": {},
   "outputs": [
    {
     "name": "stderr",
     "output_type": "stream",
     "text": [
      "/venv/lib/python3.11/site-packages/tqdm/auto.py:21: TqdmWarning: IProgress not found. Please update jupyter and ipywidgets. See https://ipywidgets.readthedocs.io/en/stable/user_install.html\n",
      "  from .autonotebook import tqdm as notebook_tqdm\n"
     ]
    }
   ],
   "source": [
    "model_calories_burned = AutoRegressiveModel(input_dim_calories_burned, hidden_dim, output_dim_calories_burned)\n",
    "optimizer_calories_burned = Adam(model_calories_burned.parameters(), lr=0.001)  # Learning rate of 0.001"
   ]
  },
  {
   "cell_type": "code",
   "execution_count": 83,
   "id": "3c6788af-6591-464e-a2d2-af95b3736b2b",
   "metadata": {},
   "outputs": [],
   "source": [
    "# I need to be sure the inputs and outputs for this model are correct  \n",
    "model_total_steps = RNN(input_size=X_total_steps.shape[1], hidden_size=1024, num_layers=3, dropout_prob=0.5)\n",
    "optimizer_total_steps = Adam(model_total_steps.parameters(), lr=0.001)  # Learning rate of 0.01"
   ]
  },
  {
   "cell_type": "code",
   "execution_count": 84,
   "id": "63d0f37a-42ea-4c33-8407-6015201eb314",
   "metadata": {},
   "outputs": [],
   "source": [
    "model_multivariate_per_Id = AutoRegressiveModel(input_dim_multivariate_per_Id, hidden_dim, output_dim_multivariate_per_Id)\n",
    "optimizer_multivariate_per_Id = Adam(model_multivariate_per_Id.parameters(), lr=0.001)  # Learning rate of 0.01"
   ]
  },
  {
   "cell_type": "markdown",
   "id": "207d0cc0-16f4-4551-9a0e-0713b2e9f694",
   "metadata": {},
   "source": [
    "### Train the Models\n",
    "1. Train the Time Series Model to predict the amount of calories per ID (user)\n",
    "2. Train the Time Series Model to predict the amount of total steps taken per day per ID (user)\n",
    "3. Train the  Time Series Model to predict how many 'Calories', 'TotalDistance', 'TotalMinutesAsleep', 'WeightPounds', 'BMI', 'VeryActiveDistance', 'ModeratelyActiveDistance', 'LightActiveDistance', 'SedentaryActiveDistance', 'VeryActiveMinutes','FairlyActiveMinutes','LightlyActiveMinutes','SedentaryMinutes' per day in the next 7 days for 'Id' ['1927972279'], to get to ten thousand steps per day"
   ]
  },
  {
   "cell_type": "code",
   "execution_count": 85,
   "id": "2ead3b91-24c0-47e5-9422-fb4ebbb6559d",
   "metadata": {},
   "outputs": [],
   "source": [
    "num_epochs = 100 # Number of training iterations\n",
    "for epoch in range(num_epochs):\n",
    "    for X, y in train_loader_calories_burned:\n",
    "        optimizer_calories_burned.zero_grad()\n",
    "        output = model_calories_burned(X)\n",
    "        loss = criterion(output, y)\n",
    "        loss.backward()\n",
    "        optimizer_calories_burned.step()"
   ]
  },
  {
   "cell_type": "code",
   "execution_count": 86,
   "id": "a2f8eab2-85c2-43b7-841c-135d6b7c5ac8",
   "metadata": {},
   "outputs": [],
   "source": [
    "num_epochs = 100 # Number of training iterations\n",
    "for epoch in range(num_epochs):\n",
    "    for i, (inputs, labels) in enumerate(train_loader_total_steps):\n",
    "        outputs = model_total_steps(inputs)\n",
    "        outputs = outputs.view(labels.shape[0], labels.shape[1])  # Reshape the output to match the target dimension\n",
    "        loss = criterion(outputs, outputs.view(labels.shape[0], labels.shape[1]))\n",
    "        optimizer_total_steps.zero_grad()\n",
    "        loss.backward()\n",
    "        optimizer_total_steps.step()"
   ]
  },
  {
   "cell_type": "code",
   "execution_count": 87,
   "id": "cb301b03-87df-43b5-ad22-7d1c3d5fa69c",
   "metadata": {},
   "outputs": [],
   "source": [
    "num_epochs = 100 # Number of training iterations\n",
    "for epoch in range(num_epochs):\n",
    "    for X, y in train_loader_multivariate_per_Id:\n",
    "        optimizer_multivariate_per_Id.zero_grad()\n",
    "        output = model_multivariate_per_Id(X)\n",
    "        loss = criterion(output, y)\n",
    "        loss.backward()\n",
    "        optimizer_multivariate_per_Id.step()"
   ]
  },
  {
   "cell_type": "markdown",
   "id": "fb1bdcb0-8d55-4f54-88d0-2c3a035214f4",
   "metadata": {},
   "source": [
    "### Evaluate the Models\n",
    "1. Evaluate the Time Series Model to predict the amount of calories per ID (user)\n",
    "2. Evaluate the Time Series Model to predict the amount of total steps taken per day per ID (user)\n",
    "3. Evaluate the Time Series Model to predict how many 'Calories', 'TotalDistance', 'TotalMinutesAsleep', 'WeightPounds', 'BMI', 'VeryActiveDistance', 'ModeratelyActiveDistance', 'LightActiveDistance', 'SedentaryActiveDistance', 'VeryActiveMinutes','FairlyActiveMinutes','LightlyActiveMinutes','SedentaryMinutes' per day in the next 7 days for 'Id' ['1927972279'], to get to ten thousand steps per day"
   ]
  },
  {
   "cell_type": "code",
   "execution_count": 88,
   "id": "60c76857-a04c-48e4-8d79-f79a1592cfd1",
   "metadata": {},
   "outputs": [
    {
     "name": "stdout",
     "output_type": "stream",
     "text": [
      "Validation Loss: 0.006184002040852798\n"
     ]
    }
   ],
   "source": [
    "model_calories_burned.eval()\n",
    "with torch.no_grad():\n",
    "    val_loss = 0\n",
    "    for X, y in val_loader_calories_burned:\n",
    "        output = model_calories_burned(X)\n",
    "        val_loss += criterion(output, y).item() * len(y)\n",
    "val_loss /= len(y_calories_burned)\n",
    "print(f'Validation Loss: {val_loss}')"
   ]
  },
  {
   "cell_type": "code",
   "execution_count": 89,
   "id": "011612eb-bed3-43b5-a978-5c6cc2341b4a",
   "metadata": {},
   "outputs": [
    {
     "name": "stdout",
     "output_type": "stream",
     "text": [
      "Record 1:\n",
      "Day 1: -1353.259850166738\n",
      "Day 2: 659.1636883914471\n",
      "Day 3: 260.86897747963667\n",
      "Day 4: -1405.5706715360284\n",
      "Day 5: 668.5224938187748\n",
      "Day 6: -960.1359471827745\n",
      "Day 7: 669.8509550988674\n",
      "\n",
      "Record 2:\n",
      "Day 1: -1214.577241141349\n",
      "Day 2: 680.2620768323541\n",
      "Day 3: 292.01804332155734\n",
      "Day 4: -1370.4287412501872\n",
      "Day 5: 668.0333361402154\n",
      "Day 6: -1038.431500710547\n",
      "Day 7: 655.4074860941619\n",
      "\n",
      "Record 3:\n",
      "Day 1: -1256.025957658887\n",
      "Day 2: 596.9602215662599\n",
      "Day 3: 299.28258163668215\n",
      "Day 4: -1436.7856539078057\n",
      "Day 5: 657.4142334982753\n",
      "Day 6: -1176.155384838581\n",
      "Day 7: 603.209041506052\n",
      "\n",
      "Record 4:\n",
      "Day 1: -1236.8357605077326\n",
      "Day 2: 638.3053501732647\n",
      "Day 3: 275.2189221661538\n",
      "Day 4: -1278.531638853252\n",
      "Day 5: 716.310870969668\n",
      "Day 6: -1072.8343607746065\n",
      "Day 7: 645.598838089034\n",
      "\n",
      "Record 5:\n",
      "Day 1: -1587.9312840551138\n",
      "Day 2: 369.06829438731074\n",
      "Day 3: 305.3217434026301\n",
      "Day 4: -1508.6158189885318\n",
      "Day 5: 421.1840162463486\n",
      "Day 6: -839.0047799311578\n",
      "Day 7: 322.53900681994855\n",
      "\n",
      "Record 6:\n",
      "Day 1: -1228.5079365707934\n",
      "Day 2: 676.1679391041398\n",
      "Day 3: 237.16304517164826\n",
      "Day 4: -1489.300028204918\n",
      "Day 5: 508.485881106928\n",
      "Day 6: -906.765966264531\n",
      "Day 7: 337.4857896231115\n",
      "\n",
      "Record 7:\n",
      "Day 1: -1346.377560634166\n",
      "Day 2: 555.7010360378772\n",
      "Day 3: 547.8800817020237\n",
      "Day 4: -1550.8331255987287\n",
      "Day 5: 685.7757848966867\n",
      "Day 6: -1107.8123886864632\n",
      "Day 7: 731.3310509063303\n",
      "\n",
      "Record 8:\n",
      "Day 1: -1181.4539332985878\n",
      "Day 2: 727.2065882198513\n",
      "Day 3: 249.24135193089023\n",
      "Day 4: -1267.306976314634\n",
      "Day 5: 749.0307629406452\n",
      "Day 6: -1201.4057431183755\n",
      "Day 7: 740.3093854524195\n",
      "\n",
      "Record 9:\n",
      "Day 1: -841.1987101528794\n",
      "Day 2: 662.6474356986582\n",
      "Day 3: -142.8648199592717\n",
      "Day 4: -1104.376342806965\n",
      "Day 5: 756.1637030132115\n",
      "Day 6: -1264.5115787237883\n",
      "Day 7: 705.1447785384953\n",
      "\n"
     ]
    }
   ],
   "source": [
    "model_total_steps.eval()\n",
    "with torch.no_grad():\n",
    "    for i, (inputs, labels) in enumerate(val_loader_total_steps):\n",
    "        outputs = model_total_steps(inputs)  # Fix: Use the correct model\n",
    "        # outputs now contains the predicted TotalSteps for the next 7 days\n",
    "        \n",
    "        # Rescale the outputs back to their original range\n",
    "        outputs_rescaled = total_steps_target_scaler.inverse_transform(outputs)\n",
    "\n",
    "        if i < 10:\n",
    "            print(f\"Record {i+1}:\")\n",
    "            for j in range(7):\n",
    "                print(f\"Day {j+1}: {outputs_rescaled[i][j]}\")\n",
    "            print()\n"
   ]
  },
  {
   "cell_type": "code",
   "execution_count": 90,
   "id": "29e0eee4-d930-4cc2-b2ad-06c04bea9cb7",
   "metadata": {},
   "outputs": [
    {
     "name": "stdout",
     "output_type": "stream",
     "text": [
      "Validation Loss: 0.00797932090297822\n"
     ]
    }
   ],
   "source": [
    "model_multivariate_per_Id.eval()\n",
    "with torch.no_grad():\n",
    "    val_loss = 0\n",
    "    for X, y in val_loader_multivariate_per_Id:\n",
    "        output = model_multivariate_per_Id(X)\n",
    "        val_loss += criterion(output, y).item() * len(y)\n",
    "val_loss /= len(y_multivariate_per_Id_targets)\n",
    "print(f'Validation Loss: {val_loss}')"
   ]
  },
  {
   "cell_type": "markdown",
   "id": "bb29b8f4-1b6f-43e0-ab63-eb2a569d5a68",
   "metadata": {},
   "source": [
    "### Make Predictions with the Models\n",
    "1. Predicting the next 7 days' calories burned for each Id\n",
    "2. Predicting the next 7 days' total steps for each Id\n",
    "3. Predict how many 'Calories', 'TotalDistance', 'TotalMinutesAsleep', 'WeightPounds', 'BMI', 'VeryActiveDistance', 'ModeratelyActiveDistance', 'LightActiveDistance', 'SedentaryActiveDistance', 'VeryActiveMinutes','FairlyActiveMinutes','LightlyActiveMinutes', and 'SedentaryMinutes' per day in the next 7 days for 'Id' ['1927972279'], to get to a total of ten thousand steps per day."
   ]
  },
  {
   "cell_type": "code",
   "execution_count": 91,
   "id": "cafd7b3d-66b7-4202-8c9b-9750b36bb1c9",
   "metadata": {},
   "outputs": [],
   "source": [
    "predictions = []\n",
    "for id in X_calories_burned.index:\n",
    "    x = torch.tensor(X_calories_burned.loc[id].values).float().unsqueeze(0)  # Input for one Id\n",
    "    prediction = model_calories_burned(x)[-1, 0]  # Last time step's output is the prediction\n",
    "    predictions.append(prediction.item())"
   ]
  },
  {
   "cell_type": "code",
   "execution_count": 92,
   "id": "0b78d584-fb14-4c9e-b4f9-34cc2026d3b9",
   "metadata": {},
   "outputs": [
    {
     "name": "stdout",
     "output_type": "stream",
     "text": [
      "                                   Actual    Predicted\n",
      "Id_DateMerge_Index                                    \n",
      "(1503960366, 2016-04-12 00:00:00)  1985.0 -3900.086635\n",
      "(1503960366, 2016-04-13 00:00:00)  1797.0 -4003.768039\n",
      "(1503960366, 2016-04-14 00:00:00)  1776.0 -4276.456523\n",
      "(1503960366, 2016-04-15 00:00:00)  1745.0 -4018.833220\n",
      "(1503960366, 2016-04-16 00:00:00)  1863.0 -3883.358741\n",
      "(1503960366, 2016-04-17 00:00:00)  1728.0 -4040.396798\n",
      "(1503960366, 2016-04-18 00:00:00)  1921.0 -4141.185319\n",
      "(1503960366, 2016-04-19 00:00:00)  2035.0 -3888.670194\n",
      "(1503960366, 2016-04-20 00:00:00)  1786.0 -3973.067278\n",
      "(1503960366, 2016-04-21 00:00:00)  1775.0 -3976.751941\n"
     ]
    }
   ],
   "source": [
    "predictions = np.array(predictions).reshape(-1, 1)\n",
    "predictions = predictions[:len(y_calories_burned)]  # Ensure predictions has the same length as y_calories_burned\n",
    "\n",
    "# Assume calories_burned_scaler is the MinMaxScaler fitted to the targets\n",
    "predictions_rescaled = calories_burned_targets_scaler.inverse_transform(predictions)\n",
    "#print(predictions)\n",
    "\n",
    "# Create a DataFrame with index values, actual values, and predicted values\n",
    "df_predictions_calories = pd.DataFrame({\n",
    "    'Id_DateMerge_Index': y_calories_burned.index,\n",
    "    'Actual': y_calories_burned.values.flatten(),\n",
    "    'Predicted': predictions_rescaled.flatten()\n",
    "})\n",
    "\n",
    "# Set index to 'Id_DateMerge_Index'\n",
    "df_predictions_calories.set_index('Id_DateMerge_Index', inplace=True)\n",
    "\n",
    "# Print the DataFrame\n",
    "print(df_predictions_calories.head(10))"
   ]
  },
  {
   "cell_type": "code",
   "execution_count": 93,
   "id": "59c745a0-12b8-4101-af8f-c94fae187b18",
   "metadata": {},
   "outputs": [],
   "source": [
    "predictions = []\n",
    "for id in X_total_steps.index:\n",
    "    x = torch.tensor(X_total_steps.loc[id].values).float().unsqueeze(0)  # Input for one Id\n",
    "    x = x.view(x.size(0), x.size(1), -1)  # Reshape the input tensor to match the expected input size\n",
    "    prediction = model_total_steps(x)  # Last time step's output is the prediction\n",
    "    prediction_rescaled = total_steps_target_scaler.inverse_transform(prediction.detach().numpy())\n",
    "    predictions.append(prediction_rescaled)"
   ]
  },
  {
   "cell_type": "code",
   "execution_count": 94,
   "id": "d74b4904-bccb-45a9-ad88-8e94fa14720d",
   "metadata": {},
   "outputs": [
    {
     "name": "stdout",
     "output_type": "stream",
     "text": [
      "Prediction 1: 19841.44140625\n",
      "Prediction 2: 19841.0703125\n",
      "Prediction 3: 19805.650390625\n",
      "Prediction 4: 19790.2109375\n",
      "Prediction 5: 19615.525390625\n",
      "Prediction 6: 19614.189453125\n",
      "Prediction 7: 19609.8359375\n",
      "Prediction 8: 19528.658203125\n",
      "Prediction 9: 19375.705078125\n",
      "Prediction 10: 19277.1953125\n"
     ]
    }
   ],
   "source": [
    "# Sort the predictions in descending order and take the top 10\n",
    "top_ten_predictions = sorted(np.array(predictions).flatten(), reverse=True)[:10]\n",
    "\n",
    "# Print the top 10 predictions in descending order for analysis purposes\n",
    "for i, pred in enumerate(top_ten_predictions, start=1):\n",
    "    if np.any(pred):\n",
    "        print(f\"Prediction {i}: {pred}\")\n"
   ]
  },
  {
   "cell_type": "code",
   "execution_count": 95,
   "id": "11b1b90a",
   "metadata": {},
   "outputs": [],
   "source": [
    "\n",
    "# Ensure that the arrays have the same length\n",
    "min_length = min(len(y_total_steps.index), len(y_total_steps.values.flatten()), len(predictions))\n",
    "y_total_steps = y_total_steps[:min_length]\n",
    "predictions = np.array(predictions).flatten()[:min_length]\n",
    "\n",
    "# Create a DataFrame with index values, actual values, and predicted values\n",
    "df_predictions_total_steps = pd.DataFrame({\n",
    "    'Id_DateMerge_Index': y_total_steps.index,\n",
    "    'Actual': y_total_steps.values.flatten(),\n",
    "    'Predicted': predictions.flatten()\n",
    "})\n",
    "\n",
    "# Set index to 'Id_DateMerge_Index'\n",
    "df_predictions_total_steps.set_index('Id_DateMerge_Index', inplace=True)"
   ]
  },
  {
   "cell_type": "code",
   "execution_count": 96,
   "id": "e62a3fa6",
   "metadata": {},
   "outputs": [
    {
     "data": {
      "text/html": [
       "<div>\n",
       "<style scoped>\n",
       "    .dataframe tbody tr th:only-of-type {\n",
       "        vertical-align: middle;\n",
       "    }\n",
       "\n",
       "    .dataframe tbody tr th {\n",
       "        vertical-align: top;\n",
       "    }\n",
       "\n",
       "    .dataframe thead th {\n",
       "        text-align: right;\n",
       "    }\n",
       "</style>\n",
       "<table border=\"1\" class=\"dataframe\">\n",
       "  <thead>\n",
       "    <tr style=\"text-align: right;\">\n",
       "      <th></th>\n",
       "      <th>Actual</th>\n",
       "      <th>Predicted</th>\n",
       "    </tr>\n",
       "    <tr>\n",
       "      <th>Id_DateMerge_Index</th>\n",
       "      <th></th>\n",
       "      <th></th>\n",
       "    </tr>\n",
       "  </thead>\n",
       "  <tbody>\n",
       "    <tr>\n",
       "      <th>(1503960366, 2016-04-12 00:00:00)</th>\n",
       "      <td>13162.0</td>\n",
       "      <td>-2465.815674</td>\n",
       "    </tr>\n",
       "    <tr>\n",
       "      <th>(1503960366, 2016-04-13 00:00:00)</th>\n",
       "      <td>10735.0</td>\n",
       "      <td>3340.379395</td>\n",
       "    </tr>\n",
       "    <tr>\n",
       "      <th>(1503960366, 2016-04-14 00:00:00)</th>\n",
       "      <td>10460.0</td>\n",
       "      <td>7214.879395</td>\n",
       "    </tr>\n",
       "    <tr>\n",
       "      <th>(1503960366, 2016-04-15 00:00:00)</th>\n",
       "      <td>9762.0</td>\n",
       "      <td>363.752960</td>\n",
       "    </tr>\n",
       "    <tr>\n",
       "      <th>(1503960366, 2016-04-16 00:00:00)</th>\n",
       "      <td>12669.0</td>\n",
       "      <td>12057.189453</td>\n",
       "    </tr>\n",
       "    <tr>\n",
       "      <th>(1503960366, 2016-04-17 00:00:00)</th>\n",
       "      <td>9705.0</td>\n",
       "      <td>1260.341797</td>\n",
       "    </tr>\n",
       "    <tr>\n",
       "      <th>(1503960366, 2016-04-18 00:00:00)</th>\n",
       "      <td>13019.0</td>\n",
       "      <td>7811.372070</td>\n",
       "    </tr>\n",
       "    <tr>\n",
       "      <th>(1503960366, 2016-04-19 00:00:00)</th>\n",
       "      <td>15506.0</td>\n",
       "      <td>-3233.113525</td>\n",
       "    </tr>\n",
       "    <tr>\n",
       "      <th>(1503960366, 2016-04-20 00:00:00)</th>\n",
       "      <td>10544.0</td>\n",
       "      <td>3485.550781</td>\n",
       "    </tr>\n",
       "    <tr>\n",
       "      <th>(1503960366, 2016-04-21 00:00:00)</th>\n",
       "      <td>9819.0</td>\n",
       "      <td>3269.656738</td>\n",
       "    </tr>\n",
       "  </tbody>\n",
       "</table>\n",
       "</div>"
      ],
      "text/plain": [
       "                                    Actual     Predicted\n",
       "Id_DateMerge_Index                                      \n",
       "(1503960366, 2016-04-12 00:00:00)  13162.0  -2465.815674\n",
       "(1503960366, 2016-04-13 00:00:00)  10735.0   3340.379395\n",
       "(1503960366, 2016-04-14 00:00:00)  10460.0   7214.879395\n",
       "(1503960366, 2016-04-15 00:00:00)   9762.0    363.752960\n",
       "(1503960366, 2016-04-16 00:00:00)  12669.0  12057.189453\n",
       "(1503960366, 2016-04-17 00:00:00)   9705.0   1260.341797\n",
       "(1503960366, 2016-04-18 00:00:00)  13019.0   7811.372070\n",
       "(1503960366, 2016-04-19 00:00:00)  15506.0  -3233.113525\n",
       "(1503960366, 2016-04-20 00:00:00)  10544.0   3485.550781\n",
       "(1503960366, 2016-04-21 00:00:00)   9819.0   3269.656738"
      ]
     },
     "execution_count": 96,
     "metadata": {},
     "output_type": "execute_result"
    }
   ],
   "source": [
    "df_predictions_total_steps.head(10)"
   ]
  },
  {
   "cell_type": "code",
   "execution_count": 97,
   "id": "9095045b-6ac3-40ef-82ea-99467f55f20e",
   "metadata": {},
   "outputs": [],
   "source": [
    "predictions = []\n",
    "for id in X_multivariate_per_Id_features.index:\n",
    "    x = torch.tensor(X_multivariate_per_Id_features.loc[id].values).float().unsqueeze(0)  # Input for one Id\n",
    "    prediction = model_multivariate_per_Id(x)  # Last time step's output is the prediction\n",
    "    predictions_rescaled = multivariate_target_scaler.inverse_transform(prediction.detach().numpy())\n",
    "    predictions.append(predictions_rescaled.flatten())"
   ]
  },
  {
   "cell_type": "code",
   "execution_count": 98,
   "id": "1aef56e8-3560-4598-adf3-40d50ddacff1",
   "metadata": {},
   "outputs": [],
   "source": [
    "# Ensure that the arrays have the same length\n",
    "min_length = min(len(y_multivariate_per_Id_targets.index), len(y_multivariate_per_Id_targets.values.flatten()), len(predictions_rescaled.flatten()))\n",
    "y_multivariate_per_Id_targets = y_multivariate_per_Id_targets[:min_length]\n",
    "predictions = predictions[:min_length]\n"
   ]
  },
  {
   "cell_type": "markdown",
   "id": "7bfc2086",
   "metadata": {},
   "source": [
    "Add predictions to dataframe and output the dataframe results to a CSV file called 'merged_data_and_predictions'"
   ]
  },
  {
   "cell_type": "code",
   "execution_count": 99,
   "id": "1f5a0554",
   "metadata": {},
   "outputs": [],
   "source": [
    "# Create a copy of 'merged_df'\n",
    "merged_data_and_predictions = merged_df.copy()"
   ]
  },
  {
   "cell_type": "code",
   "execution_count": 100,
   "id": "6fa335b7",
   "metadata": {},
   "outputs": [],
   "source": [
    "# Name the index column 'Id_DateMerge_Index'\n",
    "merged_data_and_predictions.index.name = 'Id_DateMerge_Index'"
   ]
  },
  {
   "cell_type": "code",
   "execution_count": 101,
   "id": "73bb12ed",
   "metadata": {},
   "outputs": [],
   "source": [
    "# Reset the index column on merged_data_and_predictions and drop the index columns on df_predictions_calories and df_predictions_total_steps and join on the column name 'Id_DateMerge_Index' for both dataframes\n",
    "merged_data_and_predictions = merged_data_and_predictions.reset_index(drop=False)\n",
    "df_predictions_calories = df_predictions_calories.reset_index(drop=True)\n",
    "df_predictions_total_steps = df_predictions_total_steps.reset_index(drop=True)"
   ]
  },
  {
   "cell_type": "code",
   "execution_count": 102,
   "id": "4cc4e777",
   "metadata": {},
   "outputs": [],
   "source": [
    "# Merge the dataframes\n",
    "merged_data_and_predictions = merged_data_and_predictions.merge(df_predictions_calories[['Predicted']], left_index=True, right_index=True)\n",
    "merged_data_and_predictions.rename(columns={'Predicted': 'predicted_calories'}, inplace=True)\n",
    "\n",
    "merged_data_and_predictions = merged_data_and_predictions.merge(df_predictions_total_steps[['Predicted']], left_index=True, right_index=True)\n",
    "merged_data_and_predictions.rename(columns={'Predicted': 'predicted_total_steps'}, inplace=True)"
   ]
  },
  {
   "cell_type": "code",
   "execution_count": 103,
   "id": "5474a531",
   "metadata": {},
   "outputs": [],
   "source": [
    "# Assuming that 'predictions' is a 2D array where each row corresponds to a prediction\n",
    "# and each column corresponds to a target\n",
    "\n",
    "# Convert predictions to a DataFrame\n",
    "df_predictions_multivariate = pd.DataFrame(predictions, columns=targets)\n",
    "\n",
    "# Add 'Id' and 'Date_Merge' column to df_predictions_multivariate\n",
    "df_predictions_multivariate['Id_DateMerge_Index'] = y_multivariate_per_Id_targets.index\n",
    "\n",
    "\n",
    "# Add predicted columns to 'merged_data_and_predictions'\n",
    "for target in targets:\n",
    "    merged_data_and_predictions['predicted_multivariate' + target] = df_predictions_multivariate[target]"
   ]
  },
  {
   "cell_type": "code",
   "execution_count": 104,
   "id": "7902dd2e",
   "metadata": {},
   "outputs": [],
   "source": [
    "# Set index on merged_data_and_predictions on the column 'Id' and 'Date_Merge'\n",
    "merged_data_and_predictions.set_index(['Id', 'Date_Merge'], inplace=True)\n",
    "\n",
    "# Name the index column on merged_data_and_predictions as 'Id_DateMerge_Index'\n",
    "merged_data_and_predictions.index.name = 'Id_DateMerge_Index'"
   ]
  },
  {
   "cell_type": "code",
   "execution_count": 105,
   "id": "9c539dbc",
   "metadata": {},
   "outputs": [],
   "source": [
    "# Merge 'merged_data_and_predictions' back to 'merged_df'\n",
    "merged_df = pd.concat([merged_df, merged_data_and_predictions], axis=1)\n",
    "\n",
    "# Output results from merged dataframe merged_df to a csv file called 'merged_df.csv'\n",
    "merged_data_and_predictions.to_csv('merged_data_and_predictions.csv')"
   ]
  }
 ],
 "metadata": {
  "kernelspec": {
   "display_name": "Python 3 (ipykernel)",
   "language": "python",
   "name": "python3"
  },
  "language_info": {
   "codemirror_mode": {
    "name": "ipython",
    "version": 3
   },
   "file_extension": ".py",
   "mimetype": "text/x-python",
   "name": "python",
   "nbconvert_exporter": "python",
   "pygments_lexer": "ipython3",
   "version": "3.10.13"
  }
 },
 "nbformat": 4,
 "nbformat_minor": 5
}
